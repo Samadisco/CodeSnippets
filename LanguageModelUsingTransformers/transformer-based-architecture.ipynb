{
 "cells": [
  {
   "cell_type": "code",
   "execution_count": null,
   "metadata": {
    "_cell_guid": "b1076dfc-b9ad-4769-8c92-a6c4dae69d19",
    "_uuid": "8f2839f25d086af736a60e9eeb907d3b93b6e0e5",
    "execution": {
     "iopub.execute_input": "2025-04-03T18:15:18.398857Z",
     "iopub.status.busy": "2025-04-03T18:15:18.398439Z",
     "iopub.status.idle": "2025-04-03T18:15:18.835068Z",
     "shell.execute_reply": "2025-04-03T18:15:18.834049Z",
     "shell.execute_reply.started": "2025-04-03T18:15:18.398816Z"
    },
    "trusted": true
   },
   "outputs": [],
   "source": [
    "import numpy as np \n",
    "import os\n",
    "\n",
    "import math\n",
    "import warnings\n",
    "from pathlib import Path\n",
    "\n",
    "import torch\n",
    "import torch.nn as nn\n",
    "import torch.nn.functional as F\n",
    "from torch.utils.data import DataLoader, Dataset, random_split\n",
    "\n",
    "from torch.optim.lr_scheduler import LambdaLR\n",
    "from tqdm import tqdm\n",
    "\n",
    "import matplotlib.pyplot as plt\n",
    "import seaborn as sns\n",
    "\n",
    "from tokenizers import Tokenizer\n",
    "from tokenizers.models import WordLevel\n",
    "from tokenizers.trainers import WordLevelTrainer\n",
    "from tokenizers.pre_tokenizers import Whitespace\n",
    "import pandas as pd\n",
    "\n",
    "for dirname, _, filenames in os.walk('/kaggle/input'):\n",
    "    for filename in filenames:\n",
    "        print(os.path.join(dirname, filename))\n"
   ]
  },
  {
   "cell_type": "code",
   "execution_count": null,
   "metadata": {
    "execution": {
     "iopub.execute_input": "2025-04-03T18:36:13.474030Z",
     "iopub.status.busy": "2025-04-03T18:36:13.473593Z",
     "iopub.status.idle": "2025-04-03T18:36:13.702260Z",
     "shell.execute_reply": "2025-04-03T18:36:13.701362Z",
     "shell.execute_reply.started": "2025-04-03T18:36:13.474003Z"
    },
    "trusted": true
   },
   "outputs": [
    {
     "data": {
      "application/vnd.microsoft.datawrangler.viewer.v0+json": {
       "columns": [
        {
         "name": "index",
         "rawType": "int64",
         "type": "integer"
        },
        {
         "name": "english",
         "rawType": "object",
         "type": "string"
        },
        {
         "name": "akan",
         "rawType": "object",
         "type": "string"
        }
       ],
       "conversionMethod": "pd.DataFrame",
       "ref": "4d7ec83a-6e18-4ae5-b6db-be96ca4f5449",
       "rows": [
        [
         "0",
         "What she lacks in charisma she makes up for with hard work.",
         "Nea onni ho adwempa no de adwumaden na ɛba."
        ],
        [
         "1",
         "There was nothing I could do about it.",
         "Na biribiara nni hɛ a metumi ayɔ"
        ],
        [
         "2",
         "Kwaku saw John and Abena holding hands.",
         "Kwaku hui se  John ne Abena kurakura wɛn nsa."
        ],
        [
         "3",
         "Can you stay till 2:30?",
         "So wubetumi atena ha akosi nnɛnmienu npaamu aduasa awiaberɔ."
        ],
        [
         "4",
         "You haven't got much time.",
         "Wonni mmre"
        ]
       ],
       "shape": {
        "columns": 2,
        "rows": 5
       }
      },
      "text/html": [
       "<div>\n",
       "<style scoped>\n",
       "    .dataframe tbody tr th:only-of-type {\n",
       "        vertical-align: middle;\n",
       "    }\n",
       "\n",
       "    .dataframe tbody tr th {\n",
       "        vertical-align: top;\n",
       "    }\n",
       "\n",
       "    .dataframe thead th {\n",
       "        text-align: right;\n",
       "    }\n",
       "</style>\n",
       "<table border=\"1\" class=\"dataframe\">\n",
       "  <thead>\n",
       "    <tr style=\"text-align: right;\">\n",
       "      <th></th>\n",
       "      <th>english</th>\n",
       "      <th>akan</th>\n",
       "    </tr>\n",
       "  </thead>\n",
       "  <tbody>\n",
       "    <tr>\n",
       "      <th>0</th>\n",
       "      <td>What she lacks in charisma she makes up for wi...</td>\n",
       "      <td>Nea onni ho adwempa no de adwumaden na ɛba.</td>\n",
       "    </tr>\n",
       "    <tr>\n",
       "      <th>1</th>\n",
       "      <td>There was nothing I could do about it.</td>\n",
       "      <td>Na biribiara nni hɛ a metumi ayɔ</td>\n",
       "    </tr>\n",
       "    <tr>\n",
       "      <th>2</th>\n",
       "      <td>Kwaku saw John and Abena holding hands.</td>\n",
       "      <td>Kwaku hui se  John ne Abena kurakura wɛn nsa.</td>\n",
       "    </tr>\n",
       "    <tr>\n",
       "      <th>3</th>\n",
       "      <td>Can you stay till 2:30?</td>\n",
       "      <td>So wubetumi atena ha akosi nnɛnmienu npaamu ad...</td>\n",
       "    </tr>\n",
       "    <tr>\n",
       "      <th>4</th>\n",
       "      <td>You haven't got much time.</td>\n",
       "      <td>Wonni mmre</td>\n",
       "    </tr>\n",
       "  </tbody>\n",
       "</table>\n",
       "</div>"
      ],
      "text/plain": [
       "                                             english  \\\n",
       "0  What she lacks in charisma she makes up for wi...   \n",
       "1             There was nothing I could do about it.   \n",
       "2            Kwaku saw John and Abena holding hands.   \n",
       "3                            Can you stay till 2:30?   \n",
       "4                         You haven't got much time.   \n",
       "\n",
       "                                                akan  \n",
       "0        Nea onni ho adwempa no de adwumaden na ɛba.  \n",
       "1                   Na biribiara nni hɛ a metumi ayɔ  \n",
       "2      Kwaku hui se  John ne Abena kurakura wɛn nsa.  \n",
       "3  So wubetumi atena ha akosi nnɛnmienu npaamu ad...  \n",
       "4                                         Wonni mmre  "
      ]
     },
     "execution_count": 3,
     "metadata": {},
     "output_type": "execute_result"
    }
   ],
   "source": [
    "df = pd.read_json('dataset.json')\n",
    "df.head()"
   ]
  },
  {
   "cell_type": "markdown",
   "metadata": {},
   "source": [
    "SIMPLE WORD LEVEL TOKENIZER"
   ]
  },
  {
   "cell_type": "code",
   "execution_count": null,
   "metadata": {
    "execution": {
     "iopub.execute_input": "2025-04-03T18:36:27.808588Z",
     "iopub.status.busy": "2025-04-03T18:36:27.808239Z",
     "iopub.status.idle": "2025-04-03T18:36:27.815174Z",
     "shell.execute_reply": "2025-04-03T18:36:27.814306Z",
     "shell.execute_reply.started": "2025-04-03T18:36:27.808562Z"
    },
    "trusted": true
   },
   "outputs": [],
   "source": [
    "# WordLevelTokenizer class definition for simplicity\n",
    "class WordLevelTokenizer:\n",
    "    def __init__(self, special_tokens=None):\n",
    "        self.word_to_id = {}\n",
    "        self.id_to_word = {}\n",
    "        self.special_tokens = special_tokens or []\n",
    "        self.build_vocab(self.special_tokens)\n",
    "\n",
    "    def build_vocab(self, tokens):\n",
    "        for token in tokens:\n",
    "            self.add_token(token)\n",
    "\n",
    "    def add_token(self, token):\n",
    "        if token not in self.word_to_id:\n",
    "            idx = len(self.word_to_id)\n",
    "            self.word_to_id[token] = idx\n",
    "            self.id_to_word[idx] = token\n",
    "\n",
    "    def tokenize(self, text):\n",
    "        return text.split()\n",
    "\n",
    "    def encode(self, text):\n",
    "        tokens = self.tokenize(text)\n",
    "        return [self.word_to_id.get(token, self.word_to_id.get(\"<UNK>\")) for token in tokens]\n",
    "\n",
    "    def decode(self, token_ids):\n",
    "        return \" \".join(self.id_to_word.get(idx, \"<UNK>\") for idx in token_ids)\n",
    "\n",
    "    def fit_on_texts(self, texts):\n",
    "        for text in texts:\n",
    "            tokens = self.tokenize(text)\n",
    "            self.build_vocab(tokens)\n",
    "\n",
    "    def vocab_size(self):\n",
    "        return len(self.word_to_id)"
   ]
  },
  {
   "cell_type": "code",
   "execution_count": null,
   "metadata": {
    "execution": {
     "iopub.execute_input": "2025-04-03T18:36:32.109622Z",
     "iopub.status.busy": "2025-04-03T18:36:32.109299Z",
     "iopub.status.idle": "2025-04-03T18:36:32.218801Z",
     "shell.execute_reply": "2025-04-03T18:36:32.218136Z",
     "shell.execute_reply.started": "2025-04-03T18:36:32.109598Z"
    },
    "trusted": true
   },
   "outputs": [
    {
     "name": "stdout",
     "output_type": "stream",
     "text": [
      "akan Vocabulary Size: 12315\n",
      "english Vocabulary Size: 13026\n"
     ]
    }
   ],
   "source": [
    "# Initialize tokenizers with special tokens\n",
    "special_tokens = [\"<UNK>\", \"<PAD>\", \"<SOS>\", \"<EOS>\"]\n",
    "akan_tokenizer = WordLevelTokenizer(special_tokens=special_tokens)\n",
    "english_tokenizer = WordLevelTokenizer(special_tokens=special_tokens)\n",
    "\n",
    "# Fit tokenizers on the akan and english text columns\n",
    "akan_tokenizer.fit_on_texts(df['akan'])\n",
    "print(\"Akan Vocabulary Size:\", len(akan_tokenizer.word_to_id))\n",
    "\n",
    "english_tokenizer.fit_on_texts(df['english'])\n",
    "print(\"English Vocabulary Size:\", len(english_tokenizer.word_to_id))"
   ]
  },
  {
   "cell_type": "code",
   "execution_count": null,
   "metadata": {
    "execution": {
     "iopub.execute_input": "2025-04-03T18:36:37.844794Z",
     "iopub.status.busy": "2025-04-03T18:36:37.844499Z",
     "iopub.status.idle": "2025-04-03T18:36:38.024937Z",
     "shell.execute_reply": "2025-04-03T18:36:38.024262Z",
     "shell.execute_reply.started": "2025-04-03T18:36:37.844771Z"
    },
    "trusted": true
   },
   "outputs": [],
   "source": [
    "# Tokenize the text in both english and akan columns\n",
    "df['Tokenized_akan'] = df['akan'].apply(lambda x: akan_tokenizer.encode(x))\n",
    "df['Tokenized_english'] = df['english'].apply(lambda x: english_tokenizer.encode(x))\n",
    "\n",
    "# Remove rows with long sequences in akan or english columns\n",
    "df = df[df['Tokenized_akan'].apply(len) <= 24]\n",
    "df = df[df['Tokenized_english'].apply(len) <= 24]\n",
    "\n",
    "# Reset the index after removing rows\n",
    "df = df.reset_index(drop=True)\n",
    "\n"
   ]
  },
  {
   "cell_type": "code",
   "execution_count": null,
   "metadata": {
    "execution": {
     "iopub.execute_input": "2025-04-03T18:36:43.067969Z",
     "iopub.status.busy": "2025-04-03T18:36:43.067679Z",
     "iopub.status.idle": "2025-04-03T18:36:43.292143Z",
     "shell.execute_reply": "2025-04-03T18:36:43.291319Z",
     "shell.execute_reply.started": "2025-04-03T18:36:43.067947Z"
    },
    "trusted": true
   },
   "outputs": [
    {
     "data": {
      "application/vnd.microsoft.datawrangler.viewer.v0+json": {
       "columns": [
        {
         "name": "index",
         "rawType": "int64",
         "type": "integer"
        },
        {
         "name": "english",
         "rawType": "object",
         "type": "string"
        },
        {
         "name": "akan",
         "rawType": "object",
         "type": "string"
        },
        {
         "name": "Tokenized_akan",
         "rawType": "object",
         "type": "string"
        },
        {
         "name": "Tokenized_english",
         "rawType": "object",
         "type": "string"
        },
        {
         "name": "Padded_english",
         "rawType": "object",
         "type": "string"
        },
        {
         "name": "Padded_akan",
         "rawType": "object",
         "type": "string"
        },
        {
         "name": "Padded_akan_Target",
         "rawType": "object",
         "type": "string"
        }
       ],
       "conversionMethod": "pd.DataFrame",
       "ref": "d3729fb8-ca9a-4b9b-b8a4-a9d4883028aa",
       "rows": [
        [
         "0",
         "What she lacks in charisma she makes up for with hard work.",
         "Nea onni ho adwempa no de adwumaden na ɛba.",
         "[4, 5, 6, 7, 8, 9, 10, 11, 12]",
         "[4, 5, 6, 7, 8, 5, 9, 10, 11, 12, 13, 14]",
         "[2, 4, 5, 6, 7, 8, 5, 9, 10, 11, 12, 13, 14, 3, 1, 1, 1, 1, 1, 1, 1, 1, 1, 1]",
         "[2, 4, 5, 6, 7, 8, 9, 10, 11, 12, 1, 1, 1, 1, 1, 1, 1, 1, 1, 1, 1, 1, 1, 1]",
         "[4, 5, 6, 7, 8, 9, 10, 11, 12, 3, 1, 1, 1, 1, 1, 1, 1, 1, 1, 1, 1, 1, 1, 1]"
        ],
        [
         "1",
         "There was nothing I could do about it.",
         "Na biribiara nni hɛ a metumi ayɔ",
         "[13, 14, 15, 16, 17, 18, 19]",
         "[15, 16, 17, 18, 19, 20, 21, 22]",
         "[2, 15, 16, 17, 18, 19, 20, 21, 22, 3, 1, 1, 1, 1, 1, 1, 1, 1, 1, 1, 1, 1, 1, 1]",
         "[2, 13, 14, 15, 16, 17, 18, 19, 1, 1, 1, 1, 1, 1, 1, 1, 1, 1, 1, 1, 1, 1, 1, 1]",
         "[13, 14, 15, 16, 17, 18, 19, 3, 1, 1, 1, 1, 1, 1, 1, 1, 1, 1, 1, 1, 1, 1, 1, 1]"
        ],
        [
         "2",
         "Kwaku saw John and Abena holding hands.",
         "Kwaku hui se  John ne Abena kurakura wɛn nsa.",
         "[20, 21, 22, 23, 24, 25, 26, 27, 28]",
         "[23, 24, 25, 26, 27, 28, 29]",
         "[2, 23, 24, 25, 26, 27, 28, 29, 3, 1, 1, 1, 1, 1, 1, 1, 1, 1, 1, 1, 1, 1, 1, 1]",
         "[2, 20, 21, 22, 23, 24, 25, 26, 27, 28, 1, 1, 1, 1, 1, 1, 1, 1, 1, 1, 1, 1, 1, 1]",
         "[20, 21, 22, 23, 24, 25, 26, 27, 28, 3, 1, 1, 1, 1, 1, 1, 1, 1, 1, 1, 1, 1, 1, 1]"
        ],
        [
         "3",
         "Can you stay till 2:30?",
         "So wubetumi atena ha akosi nnɛnmienu npaamu aduasa awiaberɔ.",
         "[29, 30, 31, 32, 33, 34, 35, 36, 37]",
         "[30, 31, 32, 33, 34]",
         "[2, 30, 31, 32, 33, 34, 3, 1, 1, 1, 1, 1, 1, 1, 1, 1, 1, 1, 1, 1, 1, 1, 1, 1]",
         "[2, 29, 30, 31, 32, 33, 34, 35, 36, 37, 1, 1, 1, 1, 1, 1, 1, 1, 1, 1, 1, 1, 1, 1]",
         "[29, 30, 31, 32, 33, 34, 35, 36, 37, 3, 1, 1, 1, 1, 1, 1, 1, 1, 1, 1, 1, 1, 1, 1]"
        ],
        [
         "4",
         "You haven't got much time.",
         "Wonni mmre",
         "[38, 39]",
         "[35, 36, 37, 38, 39]",
         "[2, 35, 36, 37, 38, 39, 3, 1, 1, 1, 1, 1, 1, 1, 1, 1, 1, 1, 1, 1, 1, 1, 1, 1]",
         "[2, 38, 39, 1, 1, 1, 1, 1, 1, 1, 1, 1, 1, 1, 1, 1, 1, 1, 1, 1, 1, 1, 1, 1]",
         "[38, 39, 3, 1, 1, 1, 1, 1, 1, 1, 1, 1, 1, 1, 1, 1, 1, 1, 1, 1, 1, 1, 1, 1]"
        ],
        [
         "5",
         "She bought two dozen eggs.",
         "Na ɛtotɛ  nkosua aduonu abien.",
         "[13, 40, 41, 42, 43]",
         "[40, 41, 42, 43, 44]",
         "[2, 40, 41, 42, 43, 44, 3, 1, 1, 1, 1, 1, 1, 1, 1, 1, 1, 1, 1, 1, 1, 1, 1, 1]",
         "[2, 13, 40, 41, 42, 43, 1, 1, 1, 1, 1, 1, 1, 1, 1, 1, 1, 1, 1, 1, 1, 1, 1, 1]",
         "[13, 40, 41, 42, 43, 3, 1, 1, 1, 1, 1, 1, 1, 1, 1, 1, 1, 1, 1, 1, 1, 1, 1, 1]"
        ],
        [
         "6",
         "I don't have a sword.",
         "Minni nkrante.",
         "[44, 45]",
         "[18, 45, 46, 47, 48]",
         "[2, 18, 45, 46, 47, 48, 3, 1, 1, 1, 1, 1, 1, 1, 1, 1, 1, 1, 1, 1, 1, 1, 1, 1]",
         "[2, 44, 45, 1, 1, 1, 1, 1, 1, 1, 1, 1, 1, 1, 1, 1, 1, 1, 1, 1, 1, 1, 1, 1]",
         "[44, 45, 3, 1, 1, 1, 1, 1, 1, 1, 1, 1, 1, 1, 1, 1, 1, 1, 1, 1, 1, 1, 1, 1]"
        ],
        [
         "7",
         "Why is that baby crying?",
         "Dɔ n nti na abofra no suɔ",
         "[46, 47, 48, 11, 49, 8, 50]",
         "[49, 50, 51, 52, 53]",
         "[2, 49, 50, 51, 52, 53, 3, 1, 1, 1, 1, 1, 1, 1, 1, 1, 1, 1, 1, 1, 1, 1, 1, 1]",
         "[2, 46, 47, 48, 11, 49, 8, 50, 1, 1, 1, 1, 1, 1, 1, 1, 1, 1, 1, 1, 1, 1, 1, 1]",
         "[46, 47, 48, 11, 49, 8, 50, 3, 1, 1, 1, 1, 1, 1, 1, 1, 1, 1, 1, 1, 1, 1, 1, 1]"
        ],
        [
         "8",
         "I belong here.",
         "Me na mewɔ ha.",
         "[51, 11, 52, 53]",
         "[18, 54, 55]",
         "[2, 18, 54, 55, 3, 1, 1, 1, 1, 1, 1, 1, 1, 1, 1, 1, 1, 1, 1, 1, 1, 1, 1, 1]",
         "[2, 51, 11, 52, 53, 1, 1, 1, 1, 1, 1, 1, 1, 1, 1, 1, 1, 1, 1, 1, 1, 1, 1, 1]",
         "[51, 11, 52, 53, 3, 1, 1, 1, 1, 1, 1, 1, 1, 1, 1, 1, 1, 1, 1, 1, 1, 1, 1, 1]"
        ],
        [
         "9",
         "You didn't understand.",
         "Ná wonte ase.",
         "[54, 55, 56]",
         "[35, 56, 57]",
         "[2, 35, 56, 57, 3, 1, 1, 1, 1, 1, 1, 1, 1, 1, 1, 1, 1, 1, 1, 1, 1, 1, 1, 1]",
         "[2, 54, 55, 56, 1, 1, 1, 1, 1, 1, 1, 1, 1, 1, 1, 1, 1, 1, 1, 1, 1, 1, 1, 1]",
         "[54, 55, 56, 3, 1, 1, 1, 1, 1, 1, 1, 1, 1, 1, 1, 1, 1, 1, 1, 1, 1, 1, 1, 1]"
        ],
        [
         "10",
         "Kwaku sings quite well.",
         "Kwaku to dwom yiye.",
         "[20, 57, 58, 59]",
         "[23, 58, 59, 60]",
         "[2, 23, 58, 59, 60, 3, 1, 1, 1, 1, 1, 1, 1, 1, 1, 1, 1, 1, 1, 1, 1, 1, 1, 1]",
         "[2, 20, 57, 58, 59, 1, 1, 1, 1, 1, 1, 1, 1, 1, 1, 1, 1, 1, 1, 1, 1, 1, 1, 1]",
         "[20, 57, 58, 59, 3, 1, 1, 1, 1, 1, 1, 1, 1, 1, 1, 1, 1, 1, 1, 1, 1, 1, 1, 1]"
        ],
        [
         "11",
         "He calls her up every night.",
         "Anadwo biara ɛfrɛ no.",
         "[60, 61, 62, 63]",
         "[61, 62, 63, 10, 64, 65]",
         "[2, 61, 62, 63, 10, 64, 65, 3, 1, 1, 1, 1, 1, 1, 1, 1, 1, 1, 1, 1, 1, 1, 1, 1]",
         "[2, 60, 61, 62, 63, 1, 1, 1, 1, 1, 1, 1, 1, 1, 1, 1, 1, 1, 1, 1, 1, 1, 1, 1]",
         "[60, 61, 62, 63, 3, 1, 1, 1, 1, 1, 1, 1, 1, 1, 1, 1, 1, 1, 1, 1, 1, 1, 1, 1]"
        ],
        [
         "12",
         "Kwaku got out of the hospital.",
         "Kwaku fii ayaresabea hɔ kɔe.",
         "[20, 64, 65, 66, 67]",
         "[23, 37, 66, 67, 68, 69]",
         "[2, 23, 37, 66, 67, 68, 69, 3, 1, 1, 1, 1, 1, 1, 1, 1, 1, 1, 1, 1, 1, 1, 1, 1]",
         "[2, 20, 64, 65, 66, 67, 1, 1, 1, 1, 1, 1, 1, 1, 1, 1, 1, 1, 1, 1, 1, 1, 1, 1]",
         "[20, 64, 65, 66, 67, 3, 1, 1, 1, 1, 1, 1, 1, 1, 1, 1, 1, 1, 1, 1, 1, 1, 1, 1]"
        ],
        [
         "13",
         "Hang on tight.",
         "So mu denneennen",
         "[29, 68, 69]",
         "[70, 71, 72]",
         "[2, 70, 71, 72, 3, 1, 1, 1, 1, 1, 1, 1, 1, 1, 1, 1, 1, 1, 1, 1, 1, 1, 1, 1]",
         "[2, 29, 68, 69, 1, 1, 1, 1, 1, 1, 1, 1, 1, 1, 1, 1, 1, 1, 1, 1, 1, 1, 1, 1]",
         "[29, 68, 69, 3, 1, 1, 1, 1, 1, 1, 1, 1, 1, 1, 1, 1, 1, 1, 1, 1, 1, 1, 1, 1]"
        ],
        [
         "14",
         "You can win all the battles yet lose the war.",
         "Wubetumi adi nkonim wɔ ɔko no nyinaa mu nanso wubetumi ahwere ɔko no.",
         "[70, 71, 72, 73, 74, 8, 75, 68, 76, 30, 77, 74, 63]",
         "[35, 73, 74, 75, 68, 76, 77, 78, 68, 79]",
         "[2, 35, 73, 74, 75, 68, 76, 77, 78, 68, 79, 3, 1, 1, 1, 1, 1, 1, 1, 1, 1, 1, 1, 1]",
         "[2, 70, 71, 72, 73, 74, 8, 75, 68, 76, 30, 77, 74, 63, 1, 1, 1, 1, 1, 1, 1, 1, 1, 1]",
         "[70, 71, 72, 73, 74, 8, 75, 68, 76, 30, 77, 74, 63, 3, 1, 1, 1, 1, 1, 1, 1, 1, 1, 1]"
        ],
        [
         "15",
         "Kwaku tried to break up the fight between Abena and John.",
         "Kwaku bɔɔ mmɔden sɛ obegyae ɔko a ɛkɔɔ so wɔ Abena ne John ntam no.",
         "[20, 78, 79, 80, 81, 74, 17, 82, 83, 73, 25, 24, 23, 84, 63]",
         "[23, 80, 81, 82, 10, 68, 83, 84, 27, 26, 85]",
         "[2, 23, 80, 81, 82, 10, 68, 83, 84, 27, 26, 85, 3, 1, 1, 1, 1, 1, 1, 1, 1, 1, 1, 1]",
         "[2, 20, 78, 79, 80, 81, 74, 17, 82, 83, 73, 25, 24, 23, 84, 63, 1, 1, 1, 1, 1, 1, 1, 1]",
         "[20, 78, 79, 80, 81, 74, 17, 82, 83, 73, 25, 24, 23, 84, 63, 3, 1, 1, 1, 1, 1, 1, 1, 1]"
        ],
        [
         "16",
         "I'm thinking of getting this translated into French.",
         "M'adwene ne sɛ mɛte eyi ase akɔ Franse kasa mu.",
         "[85, 24, 80, 86, 87, 88, 89, 90, 91, 92]",
         "[86, 87, 67, 88, 89, 90, 91, 92]",
         "[2, 86, 87, 67, 88, 89, 90, 91, 92, 3, 1, 1, 1, 1, 1, 1, 1, 1, 1, 1, 1, 1, 1, 1]",
         "[2, 85, 24, 80, 86, 87, 88, 89, 90, 91, 92, 1, 1, 1, 1, 1, 1, 1, 1, 1, 1, 1, 1, 1]",
         "[85, 24, 80, 86, 87, 88, 89, 90, 91, 92, 3, 1, 1, 1, 1, 1, 1, 1, 1, 1, 1, 1, 1, 1]"
        ],
        [
         "17",
         "I'll stop.",
         "Na megyae.",
         "[13, 93]",
         "[93, 94]",
         "[2, 93, 94, 3, 1, 1, 1, 1, 1, 1, 1, 1, 1, 1, 1, 1, 1, 1, 1, 1, 1, 1, 1, 1]",
         "[2, 13, 93, 1, 1, 1, 1, 1, 1, 1, 1, 1, 1, 1, 1, 1, 1, 1, 1, 1, 1, 1, 1, 1]",
         "[13, 93, 3, 1, 1, 1, 1, 1, 1, 1, 1, 1, 1, 1, 1, 1, 1, 1, 1, 1, 1, 1, 1, 1]"
        ],
        [
         "18",
         "Everybody admired his courage.",
         "Obiara ani gyee n'akokoduru no ho.",
         "[94, 95, 96, 97, 8, 98]",
         "[95, 96, 97, 98]",
         "[2, 95, 96, 97, 98, 3, 1, 1, 1, 1, 1, 1, 1, 1, 1, 1, 1, 1, 1, 1, 1, 1, 1, 1]",
         "[2, 94, 95, 96, 97, 8, 98, 1, 1, 1, 1, 1, 1, 1, 1, 1, 1, 1, 1, 1, 1, 1, 1, 1]",
         "[94, 95, 96, 97, 8, 98, 3, 1, 1, 1, 1, 1, 1, 1, 1, 1, 1, 1, 1, 1, 1, 1, 1, 1]"
        ],
        [
         "19",
         "It's a difficult question.",
         "Na nsɔmmisa no ɔyɔ den.",
         "[13, 99, 8, 100, 101]",
         "[99, 47, 100, 101]",
         "[2, 99, 47, 100, 101, 3, 1, 1, 1, 1, 1, 1, 1, 1, 1, 1, 1, 1, 1, 1, 1, 1, 1, 1]",
         "[2, 13, 99, 8, 100, 101, 1, 1, 1, 1, 1, 1, 1, 1, 1, 1, 1, 1, 1, 1, 1, 1, 1, 1]",
         "[13, 99, 8, 100, 101, 3, 1, 1, 1, 1, 1, 1, 1, 1, 1, 1, 1, 1, 1, 1, 1, 1, 1, 1]"
        ],
        [
         "20",
         "He's not an idiot.",
         "ɛnyɛ obi a wuye kwasea",
         "[102, 103, 17, 104, 105]",
         "[102, 103, 104, 105]",
         "[2, 102, 103, 104, 105, 3, 1, 1, 1, 1, 1, 1, 1, 1, 1, 1, 1, 1, 1, 1, 1, 1, 1, 1]",
         "[2, 102, 103, 17, 104, 105, 1, 1, 1, 1, 1, 1, 1, 1, 1, 1, 1, 1, 1, 1, 1, 1, 1, 1]",
         "[102, 103, 17, 104, 105, 3, 1, 1, 1, 1, 1, 1, 1, 1, 1, 1, 1, 1, 1, 1, 1, 1, 1, 1]"
        ],
        [
         "21",
         "Go first to those who you are sure will help you.",
         "Di kan kɔ wɔn a wogye di sɛ wɔbɛboa wo no nkyɛn.",
         "[106, 107, 108, 109, 17, 110, 111, 80, 112, 113, 8, 114]",
         "[106, 107, 81, 108, 109, 31, 110, 111, 112, 113, 114]",
         "[2, 106, 107, 81, 108, 109, 31, 110, 111, 112, 113, 114, 3, 1, 1, 1, 1, 1, 1, 1, 1, 1, 1, 1]",
         "[2, 106, 107, 108, 109, 17, 110, 111, 80, 112, 113, 8, 114, 1, 1, 1, 1, 1, 1, 1, 1, 1, 1, 1]",
         "[106, 107, 108, 109, 17, 110, 111, 80, 112, 113, 8, 114, 3, 1, 1, 1, 1, 1, 1, 1, 1, 1, 1, 1]"
        ],
        [
         "22",
         "You two are very cute together.",
         "Mo baanu kabom ma no yɛ fɛ",
         "[115, 116, 117, 118, 8, 119, 120]",
         "[35, 42, 110, 115, 116, 117]",
         "[2, 35, 42, 110, 115, 116, 117, 3, 1, 1, 1, 1, 1, 1, 1, 1, 1, 1, 1, 1, 1, 1, 1, 1]",
         "[2, 115, 116, 117, 118, 8, 119, 120, 1, 1, 1, 1, 1, 1, 1, 1, 1, 1, 1, 1, 1, 1, 1, 1]",
         "[115, 116, 117, 118, 8, 119, 120, 3, 1, 1, 1, 1, 1, 1, 1, 1, 1, 1, 1, 1, 1, 1, 1, 1]"
        ],
        [
         "23",
         "Sooner or later, we all are going to die.",
         "Ɛrenkyɛ koraa na yɛn nyinaa bɛwu",
         "[121, 122, 11, 123, 75, 124]",
         "[118, 119, 120, 121, 75, 110, 122, 81, 123]",
         "[2, 118, 119, 120, 121, 75, 110, 122, 81, 123, 3, 1, 1, 1, 1, 1, 1, 1, 1, 1, 1, 1, 1, 1]",
         "[2, 121, 122, 11, 123, 75, 124, 1, 1, 1, 1, 1, 1, 1, 1, 1, 1, 1, 1, 1, 1, 1, 1, 1]",
         "[121, 122, 11, 123, 75, 124, 3, 1, 1, 1, 1, 1, 1, 1, 1, 1, 1, 1, 1, 1, 1, 1, 1, 1]"
        ],
        [
         "24",
         "Please tell me.",
         "Mesrɛ wo ka kyerɛ me.",
         "[125, 113, 126, 127, 128]",
         "[124, 125, 126]",
         "[2, 124, 125, 126, 3, 1, 1, 1, 1, 1, 1, 1, 1, 1, 1, 1, 1, 1, 1, 1, 1, 1, 1, 1]",
         "[2, 125, 113, 126, 127, 128, 1, 1, 1, 1, 1, 1, 1, 1, 1, 1, 1, 1, 1, 1, 1, 1, 1, 1]",
         "[125, 113, 126, 127, 128, 3, 1, 1, 1, 1, 1, 1, 1, 1, 1, 1, 1, 1, 1, 1, 1, 1, 1, 1]"
        ],
        [
         "25",
         "I know him by sight.",
         "Minim no ɔhwɛ kwan so.",
         "[129, 8, 130, 131, 132]",
         "[18, 127, 128, 129, 130]",
         "[2, 18, 127, 128, 129, 130, 3, 1, 1, 1, 1, 1, 1, 1, 1, 1, 1, 1, 1, 1, 1, 1, 1, 1]",
         "[2, 129, 8, 130, 131, 132, 1, 1, 1, 1, 1, 1, 1, 1, 1, 1, 1, 1, 1, 1, 1, 1, 1, 1]",
         "[129, 8, 130, 131, 132, 3, 1, 1, 1, 1, 1, 1, 1, 1, 1, 1, 1, 1, 1, 1, 1, 1, 1, 1]"
        ],
        [
         "26",
         "Would you join me for a walk?",
         "So wobɛka me ho ne me anantew?",
         "[29, 133, 134, 6, 24, 134, 135]",
         "[131, 31, 132, 133, 11, 47, 134]",
         "[2, 131, 31, 132, 133, 11, 47, 134, 3, 1, 1, 1, 1, 1, 1, 1, 1, 1, 1, 1, 1, 1, 1, 1]",
         "[2, 29, 133, 134, 6, 24, 134, 135, 1, 1, 1, 1, 1, 1, 1, 1, 1, 1, 1, 1, 1, 1, 1, 1]",
         "[29, 133, 134, 6, 24, 134, 135, 3, 1, 1, 1, 1, 1, 1, 1, 1, 1, 1, 1, 1, 1, 1, 1, 1]"
        ],
        [
         "27",
         "I spent all day studying French.",
         "Mede meda nyinaa sua Franse kasa.",
         "[136, 137, 75, 138, 90, 139]",
         "[18, 135, 75, 136, 137, 92]",
         "[2, 18, 135, 75, 136, 137, 92, 3, 1, 1, 1, 1, 1, 1, 1, 1, 1, 1, 1, 1, 1, 1, 1, 1]",
         "[2, 136, 137, 75, 138, 90, 139, 1, 1, 1, 1, 1, 1, 1, 1, 1, 1, 1, 1, 1, 1, 1, 1, 1]",
         "[136, 137, 75, 138, 90, 139, 3, 1, 1, 1, 1, 1, 1, 1, 1, 1, 1, 1, 1, 1, 1, 1, 1, 1]"
        ],
        [
         "28",
         "The crowd gathered around the speaker.",
         "Nnipadɔm no betwaa ɔkasafo no ho hyiae.",
         "[140, 8, 141, 142, 8, 6, 143]",
         "[138, 139, 140, 141, 68, 142]",
         "[2, 138, 139, 140, 141, 68, 142, 3, 1, 1, 1, 1, 1, 1, 1, 1, 1, 1, 1, 1, 1, 1, 1, 1]",
         "[2, 140, 8, 141, 142, 8, 6, 143, 1, 1, 1, 1, 1, 1, 1, 1, 1, 1, 1, 1, 1, 1, 1, 1]",
         "[140, 8, 141, 142, 8, 6, 143, 3, 1, 1, 1, 1, 1, 1, 1, 1, 1, 1, 1, 1, 1, 1, 1, 1]"
        ],
        [
         "29",
         "Sorry, I'm a stranger here.",
         "Mesre wo, meyɛ ɔhɔho wɔ ha.",
         "[144, 145, 146, 147, 73, 53]",
         "[143, 86, 47, 144, 55]",
         "[2, 143, 86, 47, 144, 55, 3, 1, 1, 1, 1, 1, 1, 1, 1, 1, 1, 1, 1, 1, 1, 1, 1, 1]",
         "[2, 144, 145, 146, 147, 73, 53, 1, 1, 1, 1, 1, 1, 1, 1, 1, 1, 1, 1, 1, 1, 1, 1, 1]",
         "[144, 145, 146, 147, 73, 53, 3, 1, 1, 1, 1, 1, 1, 1, 1, 1, 1, 1, 1, 1, 1, 1, 1, 1]"
        ],
        [
         "30",
         "Kwaku has next to nothing in his wallet.",
         "Kwaku nni biribiara wɔ ne bag mu.",
         "[20, 15, 14, 73, 24, 148, 92]",
         "[23, 145, 146, 81, 17, 7, 97, 147]",
         "[2, 23, 145, 146, 81, 17, 7, 97, 147, 3, 1, 1, 1, 1, 1, 1, 1, 1, 1, 1, 1, 1, 1, 1]",
         "[2, 20, 15, 14, 73, 24, 148, 92, 1, 1, 1, 1, 1, 1, 1, 1, 1, 1, 1, 1, 1, 1, 1, 1]",
         "[20, 15, 14, 73, 24, 148, 92, 3, 1, 1, 1, 1, 1, 1, 1, 1, 1, 1, 1, 1, 1, 1, 1, 1]"
        ],
        [
         "31",
         "Read it again.",
         "San kenkan bio.",
         "[149, 150, 151]",
         "[148, 149, 150]",
         "[2, 148, 149, 150, 3, 1, 1, 1, 1, 1, 1, 1, 1, 1, 1, 1, 1, 1, 1, 1, 1, 1, 1, 1]",
         "[2, 149, 150, 151, 1, 1, 1, 1, 1, 1, 1, 1, 1, 1, 1, 1, 1, 1, 1, 1, 1, 1, 1, 1]",
         "[149, 150, 151, 3, 1, 1, 1, 1, 1, 1, 1, 1, 1, 1, 1, 1, 1, 1, 1, 1, 1, 1, 1, 1]"
        ],
        [
         "32",
         "You weren't doing anything illegal.",
         "Ná wonyɛɛ biribi a etia mmara.",
         "[54, 152, 153, 17, 154, 155]",
         "[35, 151, 152, 153, 154]",
         "[2, 35, 151, 152, 153, 154, 3, 1, 1, 1, 1, 1, 1, 1, 1, 1, 1, 1, 1, 1, 1, 1, 1, 1]",
         "[2, 54, 152, 153, 17, 154, 155, 1, 1, 1, 1, 1, 1, 1, 1, 1, 1, 1, 1, 1, 1, 1, 1, 1]",
         "[54, 152, 153, 17, 154, 155, 3, 1, 1, 1, 1, 1, 1, 1, 1, 1, 1, 1, 1, 1, 1, 1, 1, 1]"
        ],
        [
         "33",
         "She is walking.",
         "Wɛ nantew",
         "[156, 157]",
         "[40, 50, 155]",
         "[2, 40, 50, 155, 3, 1, 1, 1, 1, 1, 1, 1, 1, 1, 1, 1, 1, 1, 1, 1, 1, 1, 1, 1]",
         "[2, 156, 157, 1, 1, 1, 1, 1, 1, 1, 1, 1, 1, 1, 1, 1, 1, 1, 1, 1, 1, 1, 1, 1]",
         "[156, 157, 3, 1, 1, 1, 1, 1, 1, 1, 1, 1, 1, 1, 1, 1, 1, 1, 1, 1, 1, 1, 1, 1]"
        ],
        [
         "34",
         "Are you fond of music?",
         "So w'ani gye nnwom ho?",
         "[29, 158, 159, 160, 161]",
         "[156, 31, 157, 67, 158]",
         "[2, 156, 31, 157, 67, 158, 3, 1, 1, 1, 1, 1, 1, 1, 1, 1, 1, 1, 1, 1, 1, 1, 1, 1]",
         "[2, 29, 158, 159, 160, 161, 1, 1, 1, 1, 1, 1, 1, 1, 1, 1, 1, 1, 1, 1, 1, 1, 1, 1]",
         "[29, 158, 159, 160, 161, 3, 1, 1, 1, 1, 1, 1, 1, 1, 1, 1, 1, 1, 1, 1, 1, 1, 1, 1]"
        ],
        [
         "35",
         "Stop staring.",
         "Gyae nhwɛ bebree",
         "[162, 163, 164]",
         "[159, 160]",
         "[2, 159, 160, 3, 1, 1, 1, 1, 1, 1, 1, 1, 1, 1, 1, 1, 1, 1, 1, 1, 1, 1, 1, 1]",
         "[2, 162, 163, 164, 1, 1, 1, 1, 1, 1, 1, 1, 1, 1, 1, 1, 1, 1, 1, 1, 1, 1, 1, 1]",
         "[162, 163, 164, 3, 1, 1, 1, 1, 1, 1, 1, 1, 1, 1, 1, 1, 1, 1, 1, 1, 1, 1, 1, 1]"
        ],
        [
         "36",
         "I'll see to it that you get a raise after the first year.",
         "M'ani bɛba wo ho so no na wɔama wo so afe a edi kan no akyi.",
         "[165, 166, 113, 6, 83, 8, 11, 167, 113, 83, 168, 17, 169, 107, 8, 170]",
         "[93, 161, 81, 149, 51, 31, 162, 47, 163, 164, 68, 107, 165]",
         "[2, 93, 161, 81, 149, 51, 31, 162, 47, 163, 164, 68, 107, 165, 3, 1, 1, 1, 1, 1, 1, 1, 1, 1]",
         "[2, 165, 166, 113, 6, 83, 8, 11, 167, 113, 83, 168, 17, 169, 107, 8, 170, 1, 1, 1, 1, 1, 1, 1]",
         "[165, 166, 113, 6, 83, 8, 11, 167, 113, 83, 168, 17, 169, 107, 8, 170, 3, 1, 1, 1, 1, 1, 1, 1]"
        ],
        [
         "37",
         "He packed his lunch in a paper bag.",
         "Ɔhyehyɛɛ n'aduan no wɔ baage bi mu.",
         "[171, 172, 8, 73, 173, 174, 92]",
         "[61, 166, 97, 167, 7, 47, 168, 169]",
         "[2, 61, 166, 97, 167, 7, 47, 168, 169, 3, 1, 1, 1, 1, 1, 1, 1, 1, 1, 1, 1, 1, 1, 1]",
         "[2, 171, 172, 8, 73, 173, 174, 92, 1, 1, 1, 1, 1, 1, 1, 1, 1, 1, 1, 1, 1, 1, 1, 1]",
         "[171, 172, 8, 73, 173, 174, 92, 3, 1, 1, 1, 1, 1, 1, 1, 1, 1, 1, 1, 1, 1, 1, 1, 1]"
        ],
        [
         "38",
         "I called her up.",
         "Mefrɛɛ no bae.",
         "[175, 8, 176]",
         "[18, 170, 63, 171]",
         "[2, 18, 170, 63, 171, 3, 1, 1, 1, 1, 1, 1, 1, 1, 1, 1, 1, 1, 1, 1, 1, 1, 1, 1]",
         "[2, 175, 8, 176, 1, 1, 1, 1, 1, 1, 1, 1, 1, 1, 1, 1, 1, 1, 1, 1, 1, 1, 1, 1]",
         "[175, 8, 176, 3, 1, 1, 1, 1, 1, 1, 1, 1, 1, 1, 1, 1, 1, 1, 1, 1, 1, 1, 1, 1]"
        ],
        [
         "39",
         "Don't joke about that.",
         "Mfa nni agorɔ",
         "[177, 15, 178]",
         "[172, 173, 21, 174]",
         "[2, 172, 173, 21, 174, 3, 1, 1, 1, 1, 1, 1, 1, 1, 1, 1, 1, 1, 1, 1, 1, 1, 1, 1]",
         "[2, 177, 15, 178, 1, 1, 1, 1, 1, 1, 1, 1, 1, 1, 1, 1, 1, 1, 1, 1, 1, 1, 1, 1]",
         "[177, 15, 178, 3, 1, 1, 1, 1, 1, 1, 1, 1, 1, 1, 1, 1, 1, 1, 1, 1, 1, 1, 1, 1]"
        ],
        [
         "40",
         "It's always a pleasure to see you.",
         "Ɛyɛ anigye bere nyinaa sɛ wubehu wo.",
         "[179, 180, 181, 75, 80, 182, 183]",
         "[99, 175, 47, 176, 81, 161, 114]",
         "[2, 99, 175, 47, 176, 81, 161, 114, 3, 1, 1, 1, 1, 1, 1, 1, 1, 1, 1, 1, 1, 1, 1, 1]",
         "[2, 179, 180, 181, 75, 80, 182, 183, 1, 1, 1, 1, 1, 1, 1, 1, 1, 1, 1, 1, 1, 1, 1, 1]",
         "[179, 180, 181, 75, 80, 182, 183, 3, 1, 1, 1, 1, 1, 1, 1, 1, 1, 1, 1, 1, 1, 1, 1, 1]"
        ],
        [
         "41",
         "Will you read my essay and correct the mistakes, if any?",
         "So wobɛkenkan m'asɛm no asiesie mfomso ahorow no, sɛ ebi wɔ hɔ a?",
         "[29, 184, 185, 8, 186, 187, 188, 189, 80, 190, 73, 66, 191]",
         "[177, 31, 178, 179, 180, 26, 181, 68, 182, 183, 184]",
         "[2, 177, 31, 178, 179, 180, 26, 181, 68, 182, 183, 184, 3, 1, 1, 1, 1, 1, 1, 1, 1, 1, 1, 1]",
         "[2, 29, 184, 185, 8, 186, 187, 188, 189, 80, 190, 73, 66, 191, 1, 1, 1, 1, 1, 1, 1, 1, 1, 1]",
         "[29, 184, 185, 8, 186, 187, 188, 189, 80, 190, 73, 66, 191, 3, 1, 1, 1, 1, 1, 1, 1, 1, 1, 1]"
        ],
        [
         "42",
         "I'm Kwaku's boss.",
         "Meyɛ Kwaku adwumam panyin.",
         "[192, 20, 193, 194]",
         "[86, 185, 186]",
         "[2, 86, 185, 186, 3, 1, 1, 1, 1, 1, 1, 1, 1, 1, 1, 1, 1, 1, 1, 1, 1, 1, 1, 1]",
         "[2, 192, 20, 193, 194, 1, 1, 1, 1, 1, 1, 1, 1, 1, 1, 1, 1, 1, 1, 1, 1, 1, 1, 1]",
         "[192, 20, 193, 194, 3, 1, 1, 1, 1, 1, 1, 1, 1, 1, 1, 1, 1, 1, 1, 1, 1, 1, 1, 1]"
        ],
        [
         "43",
         "Do you remember what I taught you?",
         "So wokae nea mekyerɛkyerɛɛ wo no?",
         "[29, 195, 196, 197, 113, 198]",
         "[187, 31, 188, 189, 18, 190, 191]",
         "[2, 187, 31, 188, 189, 18, 190, 191, 3, 1, 1, 1, 1, 1, 1, 1, 1, 1, 1, 1, 1, 1, 1, 1]",
         "[2, 29, 195, 196, 197, 113, 198, 1, 1, 1, 1, 1, 1, 1, 1, 1, 1, 1, 1, 1, 1, 1, 1, 1]",
         "[29, 195, 196, 197, 113, 198, 3, 1, 1, 1, 1, 1, 1, 1, 1, 1, 1, 1, 1, 1, 1, 1, 1, 1]"
        ],
        [
         "44",
         "Who are you eating dinner with tonight?",
         "Henanom na wo ne wɔn redidi anwummere yi?",
         "[199, 11, 113, 24, 109, 200, 201, 202]",
         "[192, 110, 31, 193, 194, 12, 195]",
         "[2, 192, 110, 31, 193, 194, 12, 195, 3, 1, 1, 1, 1, 1, 1, 1, 1, 1, 1, 1, 1, 1, 1, 1]",
         "[2, 199, 11, 113, 24, 109, 200, 201, 202, 1, 1, 1, 1, 1, 1, 1, 1, 1, 1, 1, 1, 1, 1, 1]",
         "[199, 11, 113, 24, 109, 200, 201, 202, 3, 1, 1, 1, 1, 1, 1, 1, 1, 1, 1, 1, 1, 1, 1, 1]"
        ],
        [
         "45",
         "What's a picture like that doing in Kwaku's room?",
         "Mfonini bɛn na ɛte sɛ nea ɛwɔ Kwaku dan mu no?",
         "[203, 204, 11, 205, 80, 196, 206, 20, 207, 68, 198]",
         "[196, 47, 197, 198, 51, 152, 7, 185, 199]",
         "[2, 196, 47, 197, 198, 51, 152, 7, 185, 199, 3, 1, 1, 1, 1, 1, 1, 1, 1, 1, 1, 1, 1, 1]",
         "[2, 203, 204, 11, 205, 80, 196, 206, 20, 207, 68, 198, 1, 1, 1, 1, 1, 1, 1, 1, 1, 1, 1, 1]",
         "[203, 204, 11, 205, 80, 196, 206, 20, 207, 68, 198, 3, 1, 1, 1, 1, 1, 1, 1, 1, 1, 1, 1, 1]"
        ],
        [
         "46",
         "They're not idiots.",
         "Wɔnyɛ nye nkwaseafo.",
         "[208, 209, 210]",
         "[200, 103, 201]",
         "[2, 200, 103, 201, 3, 1, 1, 1, 1, 1, 1, 1, 1, 1, 1, 1, 1, 1, 1, 1, 1, 1, 1, 1]",
         "[2, 208, 209, 210, 1, 1, 1, 1, 1, 1, 1, 1, 1, 1, 1, 1, 1, 1, 1, 1, 1, 1, 1, 1]",
         "[208, 209, 210, 3, 1, 1, 1, 1, 1, 1, 1, 1, 1, 1, 1, 1, 1, 1, 1, 1, 1, 1, 1, 1]"
        ],
        [
         "47",
         "You cannot be serious.",
         "Wuntumi nyɛ biribi a anibere wom.",
         "[211, 212, 153, 17, 213, 214]",
         "[35, 202, 203, 204]",
         "[2, 35, 202, 203, 204, 3, 1, 1, 1, 1, 1, 1, 1, 1, 1, 1, 1, 1, 1, 1, 1, 1, 1, 1]",
         "[2, 211, 212, 153, 17, 213, 214, 1, 1, 1, 1, 1, 1, 1, 1, 1, 1, 1, 1, 1, 1, 1, 1, 1]",
         "[211, 212, 153, 17, 213, 214, 3, 1, 1, 1, 1, 1, 1, 1, 1, 1, 1, 1, 1, 1, 1, 1, 1, 1]"
        ],
        [
         "48",
         "It's their job.",
         "Ɛyɛ wɔn adwuma.",
         "[179, 109, 215]",
         "[99, 205, 206]",
         "[2, 99, 205, 206, 3, 1, 1, 1, 1, 1, 1, 1, 1, 1, 1, 1, 1, 1, 1, 1, 1, 1, 1, 1]",
         "[2, 179, 109, 215, 1, 1, 1, 1, 1, 1, 1, 1, 1, 1, 1, 1, 1, 1, 1, 1, 1, 1, 1, 1]",
         "[179, 109, 215, 3, 1, 1, 1, 1, 1, 1, 1, 1, 1, 1, 1, 1, 1, 1, 1, 1, 1, 1, 1, 1]"
        ],
        [
         "49",
         "Let's get a picture of us with the sea in the background.",
         "Ma yɛnhwɛ sɛnea ɛpo a ɛwɔ yɛn mpɔtam hɔ no te.",
         "[216, 217, 218, 219, 17, 206, 123, 220, 66, 8, 221]",
         "[207, 162, 47, 197, 67, 208, 12, 68, 209, 7, 68, 210]",
         "[2, 207, 162, 47, 197, 67, 208, 12, 68, 209, 7, 68, 210, 3, 1, 1, 1, 1, 1, 1, 1, 1, 1, 1]",
         "[2, 216, 217, 218, 219, 17, 206, 123, 220, 66, 8, 221, 1, 1, 1, 1, 1, 1, 1, 1, 1, 1, 1, 1]",
         "[216, 217, 218, 219, 17, 206, 123, 220, 66, 8, 221, 3, 1, 1, 1, 1, 1, 1, 1, 1, 1, 1, 1, 1]"
        ]
       ],
       "shape": {
        "columns": 7,
        "rows": 25397
       }
      },
      "text/html": [
       "<div>\n",
       "<style scoped>\n",
       "    .dataframe tbody tr th:only-of-type {\n",
       "        vertical-align: middle;\n",
       "    }\n",
       "\n",
       "    .dataframe tbody tr th {\n",
       "        vertical-align: top;\n",
       "    }\n",
       "\n",
       "    .dataframe thead th {\n",
       "        text-align: right;\n",
       "    }\n",
       "</style>\n",
       "<table border=\"1\" class=\"dataframe\">\n",
       "  <thead>\n",
       "    <tr style=\"text-align: right;\">\n",
       "      <th></th>\n",
       "      <th>english</th>\n",
       "      <th>akan</th>\n",
       "      <th>Tokenized_akan</th>\n",
       "      <th>Tokenized_english</th>\n",
       "      <th>Padded_english</th>\n",
       "      <th>Padded_akan</th>\n",
       "      <th>Padded_akan_Target</th>\n",
       "    </tr>\n",
       "  </thead>\n",
       "  <tbody>\n",
       "    <tr>\n",
       "      <th>0</th>\n",
       "      <td>What she lacks in charisma she makes up for wi...</td>\n",
       "      <td>Nea onni ho adwempa no de adwumaden na ɛba.</td>\n",
       "      <td>[4, 5, 6, 7, 8, 9, 10, 11, 12]</td>\n",
       "      <td>[4, 5, 6, 7, 8, 5, 9, 10, 11, 12, 13, 14]</td>\n",
       "      <td>[2, 4, 5, 6, 7, 8, 5, 9, 10, 11, 12, 13, 14, 3...</td>\n",
       "      <td>[2, 4, 5, 6, 7, 8, 9, 10, 11, 12, 1, 1, 1, 1, ...</td>\n",
       "      <td>[4, 5, 6, 7, 8, 9, 10, 11, 12, 3, 1, 1, 1, 1, ...</td>\n",
       "    </tr>\n",
       "    <tr>\n",
       "      <th>1</th>\n",
       "      <td>There was nothing I could do about it.</td>\n",
       "      <td>Na biribiara nni hɛ a metumi ayɔ</td>\n",
       "      <td>[13, 14, 15, 16, 17, 18, 19]</td>\n",
       "      <td>[15, 16, 17, 18, 19, 20, 21, 22]</td>\n",
       "      <td>[2, 15, 16, 17, 18, 19, 20, 21, 22, 3, 1, 1, 1...</td>\n",
       "      <td>[2, 13, 14, 15, 16, 17, 18, 19, 1, 1, 1, 1, 1,...</td>\n",
       "      <td>[13, 14, 15, 16, 17, 18, 19, 3, 1, 1, 1, 1, 1,...</td>\n",
       "    </tr>\n",
       "    <tr>\n",
       "      <th>2</th>\n",
       "      <td>Kwaku saw John and Abena holding hands.</td>\n",
       "      <td>Kwaku hui se  John ne Abena kurakura wɛn nsa.</td>\n",
       "      <td>[20, 21, 22, 23, 24, 25, 26, 27, 28]</td>\n",
       "      <td>[23, 24, 25, 26, 27, 28, 29]</td>\n",
       "      <td>[2, 23, 24, 25, 26, 27, 28, 29, 3, 1, 1, 1, 1,...</td>\n",
       "      <td>[2, 20, 21, 22, 23, 24, 25, 26, 27, 28, 1, 1, ...</td>\n",
       "      <td>[20, 21, 22, 23, 24, 25, 26, 27, 28, 3, 1, 1, ...</td>\n",
       "    </tr>\n",
       "    <tr>\n",
       "      <th>3</th>\n",
       "      <td>Can you stay till 2:30?</td>\n",
       "      <td>So wubetumi atena ha akosi nnɛnmienu npaamu ad...</td>\n",
       "      <td>[29, 30, 31, 32, 33, 34, 35, 36, 37]</td>\n",
       "      <td>[30, 31, 32, 33, 34]</td>\n",
       "      <td>[2, 30, 31, 32, 33, 34, 3, 1, 1, 1, 1, 1, 1, 1...</td>\n",
       "      <td>[2, 29, 30, 31, 32, 33, 34, 35, 36, 37, 1, 1, ...</td>\n",
       "      <td>[29, 30, 31, 32, 33, 34, 35, 36, 37, 3, 1, 1, ...</td>\n",
       "    </tr>\n",
       "    <tr>\n",
       "      <th>4</th>\n",
       "      <td>You haven't got much time.</td>\n",
       "      <td>Wonni mmre</td>\n",
       "      <td>[38, 39]</td>\n",
       "      <td>[35, 36, 37, 38, 39]</td>\n",
       "      <td>[2, 35, 36, 37, 38, 39, 3, 1, 1, 1, 1, 1, 1, 1...</td>\n",
       "      <td>[2, 38, 39, 1, 1, 1, 1, 1, 1, 1, 1, 1, 1, 1, 1...</td>\n",
       "      <td>[38, 39, 3, 1, 1, 1, 1, 1, 1, 1, 1, 1, 1, 1, 1...</td>\n",
       "    </tr>\n",
       "    <tr>\n",
       "      <th>...</th>\n",
       "      <td>...</td>\n",
       "      <td>...</td>\n",
       "      <td>...</td>\n",
       "      <td>...</td>\n",
       "      <td>...</td>\n",
       "      <td>...</td>\n",
       "      <td>...</td>\n",
       "    </tr>\n",
       "    <tr>\n",
       "      <th>25392</th>\n",
       "      <td>I'm not a killer</td>\n",
       "      <td>menyɛ owudini</td>\n",
       "      <td>[2168, 12313]</td>\n",
       "      <td>[86, 103, 47, 13024]</td>\n",
       "      <td>[2, 86, 103, 47, 13024, 3, 1, 1, 1, 1, 1, 1, 1...</td>\n",
       "      <td>[2, 2168, 12313, 1, 1, 1, 1, 1, 1, 1, 1, 1, 1,...</td>\n",
       "      <td>[2168, 12313, 3, 1, 1, 1, 1, 1, 1, 1, 1, 1, 1,...</td>\n",
       "    </tr>\n",
       "    <tr>\n",
       "      <th>25393</th>\n",
       "      <td>what are you searching for?</td>\n",
       "      <td>dɛn na worehwehwɛ?</td>\n",
       "      <td>[1588, 11, 2463]</td>\n",
       "      <td>[189, 110, 31, 3238, 1543]</td>\n",
       "      <td>[2, 189, 110, 31, 3238, 1543, 3, 1, 1, 1, 1, 1...</td>\n",
       "      <td>[2, 1588, 11, 2463, 1, 1, 1, 1, 1, 1, 1, 1, 1,...</td>\n",
       "      <td>[1588, 11, 2463, 3, 1, 1, 1, 1, 1, 1, 1, 1, 1,...</td>\n",
       "    </tr>\n",
       "    <tr>\n",
       "      <th>25394</th>\n",
       "      <td>kwabena went out</td>\n",
       "      <td>Kwabena fii adi.</td>\n",
       "      <td>[7599, 64, 2247]</td>\n",
       "      <td>[13025, 1874, 66]</td>\n",
       "      <td>[2, 13025, 1874, 66, 3, 1, 1, 1, 1, 1, 1, 1, 1...</td>\n",
       "      <td>[2, 7599, 64, 2247, 1, 1, 1, 1, 1, 1, 1, 1, 1,...</td>\n",
       "      <td>[7599, 64, 2247, 3, 1, 1, 1, 1, 1, 1, 1, 1, 1,...</td>\n",
       "    </tr>\n",
       "    <tr>\n",
       "      <th>25395</th>\n",
       "      <td>kwabena stepped outside</td>\n",
       "      <td>Kwabena sii aduo</td>\n",
       "      <td>[7599, 427, 12314]</td>\n",
       "      <td>[13025, 7965, 2421]</td>\n",
       "      <td>[2, 13025, 7965, 2421, 3, 1, 1, 1, 1, 1, 1, 1,...</td>\n",
       "      <td>[2, 7599, 427, 12314, 1, 1, 1, 1, 1, 1, 1, 1, ...</td>\n",
       "      <td>[7599, 427, 12314, 3, 1, 1, 1, 1, 1, 1, 1, 1, ...</td>\n",
       "    </tr>\n",
       "    <tr>\n",
       "      <th>25396</th>\n",
       "      <td>I understand you</td>\n",
       "      <td>Mete woase</td>\n",
       "      <td>[1776, 12243]</td>\n",
       "      <td>[18, 1456, 31]</td>\n",
       "      <td>[2, 18, 1456, 31, 3, 1, 1, 1, 1, 1, 1, 1, 1, 1...</td>\n",
       "      <td>[2, 1776, 12243, 1, 1, 1, 1, 1, 1, 1, 1, 1, 1,...</td>\n",
       "      <td>[1776, 12243, 3, 1, 1, 1, 1, 1, 1, 1, 1, 1, 1,...</td>\n",
       "    </tr>\n",
       "  </tbody>\n",
       "</table>\n",
       "<p>25397 rows × 7 columns</p>\n",
       "</div>"
      ],
      "text/plain": [
       "                                                 english  \\\n",
       "0      What she lacks in charisma she makes up for wi...   \n",
       "1                 There was nothing I could do about it.   \n",
       "2                Kwaku saw John and Abena holding hands.   \n",
       "3                                Can you stay till 2:30?   \n",
       "4                             You haven't got much time.   \n",
       "...                                                  ...   \n",
       "25392                                   I'm not a killer   \n",
       "25393                        what are you searching for?   \n",
       "25394                                   kwabena went out   \n",
       "25395                            kwabena stepped outside   \n",
       "25396                                   I understand you   \n",
       "\n",
       "                                                    akan  \\\n",
       "0            Nea onni ho adwempa no de adwumaden na ɛba.   \n",
       "1                       Na biribiara nni hɛ a metumi ayɔ   \n",
       "2          Kwaku hui se  John ne Abena kurakura wɛn nsa.   \n",
       "3      So wubetumi atena ha akosi nnɛnmienu npaamu ad...   \n",
       "4                                             Wonni mmre   \n",
       "...                                                  ...   \n",
       "25392                                      menyɛ owudini   \n",
       "25393                                 dɛn na worehwehwɛ?   \n",
       "25394                                   Kwabena fii adi.   \n",
       "25395                                   Kwabena sii aduo   \n",
       "25396                                         Mete woase   \n",
       "\n",
       "                             Tokenized_akan  \\\n",
       "0            [4, 5, 6, 7, 8, 9, 10, 11, 12]   \n",
       "1              [13, 14, 15, 16, 17, 18, 19]   \n",
       "2      [20, 21, 22, 23, 24, 25, 26, 27, 28]   \n",
       "3      [29, 30, 31, 32, 33, 34, 35, 36, 37]   \n",
       "4                                  [38, 39]   \n",
       "...                                     ...   \n",
       "25392                         [2168, 12313]   \n",
       "25393                      [1588, 11, 2463]   \n",
       "25394                      [7599, 64, 2247]   \n",
       "25395                    [7599, 427, 12314]   \n",
       "25396                         [1776, 12243]   \n",
       "\n",
       "                               Tokenized_english  \\\n",
       "0      [4, 5, 6, 7, 8, 5, 9, 10, 11, 12, 13, 14]   \n",
       "1               [15, 16, 17, 18, 19, 20, 21, 22]   \n",
       "2                   [23, 24, 25, 26, 27, 28, 29]   \n",
       "3                           [30, 31, 32, 33, 34]   \n",
       "4                           [35, 36, 37, 38, 39]   \n",
       "...                                          ...   \n",
       "25392                       [86, 103, 47, 13024]   \n",
       "25393                 [189, 110, 31, 3238, 1543]   \n",
       "25394                          [13025, 1874, 66]   \n",
       "25395                        [13025, 7965, 2421]   \n",
       "25396                             [18, 1456, 31]   \n",
       "\n",
       "                                          Padded_english  \\\n",
       "0      [2, 4, 5, 6, 7, 8, 5, 9, 10, 11, 12, 13, 14, 3...   \n",
       "1      [2, 15, 16, 17, 18, 19, 20, 21, 22, 3, 1, 1, 1...   \n",
       "2      [2, 23, 24, 25, 26, 27, 28, 29, 3, 1, 1, 1, 1,...   \n",
       "3      [2, 30, 31, 32, 33, 34, 3, 1, 1, 1, 1, 1, 1, 1...   \n",
       "4      [2, 35, 36, 37, 38, 39, 3, 1, 1, 1, 1, 1, 1, 1...   \n",
       "...                                                  ...   \n",
       "25392  [2, 86, 103, 47, 13024, 3, 1, 1, 1, 1, 1, 1, 1...   \n",
       "25393  [2, 189, 110, 31, 3238, 1543, 3, 1, 1, 1, 1, 1...   \n",
       "25394  [2, 13025, 1874, 66, 3, 1, 1, 1, 1, 1, 1, 1, 1...   \n",
       "25395  [2, 13025, 7965, 2421, 3, 1, 1, 1, 1, 1, 1, 1,...   \n",
       "25396  [2, 18, 1456, 31, 3, 1, 1, 1, 1, 1, 1, 1, 1, 1...   \n",
       "\n",
       "                                             Padded_akan  \\\n",
       "0      [2, 4, 5, 6, 7, 8, 9, 10, 11, 12, 1, 1, 1, 1, ...   \n",
       "1      [2, 13, 14, 15, 16, 17, 18, 19, 1, 1, 1, 1, 1,...   \n",
       "2      [2, 20, 21, 22, 23, 24, 25, 26, 27, 28, 1, 1, ...   \n",
       "3      [2, 29, 30, 31, 32, 33, 34, 35, 36, 37, 1, 1, ...   \n",
       "4      [2, 38, 39, 1, 1, 1, 1, 1, 1, 1, 1, 1, 1, 1, 1...   \n",
       "...                                                  ...   \n",
       "25392  [2, 2168, 12313, 1, 1, 1, 1, 1, 1, 1, 1, 1, 1,...   \n",
       "25393  [2, 1588, 11, 2463, 1, 1, 1, 1, 1, 1, 1, 1, 1,...   \n",
       "25394  [2, 7599, 64, 2247, 1, 1, 1, 1, 1, 1, 1, 1, 1,...   \n",
       "25395  [2, 7599, 427, 12314, 1, 1, 1, 1, 1, 1, 1, 1, ...   \n",
       "25396  [2, 1776, 12243, 1, 1, 1, 1, 1, 1, 1, 1, 1, 1,...   \n",
       "\n",
       "                                      Padded_akan_Target  \n",
       "0      [4, 5, 6, 7, 8, 9, 10, 11, 12, 3, 1, 1, 1, 1, ...  \n",
       "1      [13, 14, 15, 16, 17, 18, 19, 3, 1, 1, 1, 1, 1,...  \n",
       "2      [20, 21, 22, 23, 24, 25, 26, 27, 28, 3, 1, 1, ...  \n",
       "3      [29, 30, 31, 32, 33, 34, 35, 36, 37, 3, 1, 1, ...  \n",
       "4      [38, 39, 3, 1, 1, 1, 1, 1, 1, 1, 1, 1, 1, 1, 1...  \n",
       "...                                                  ...  \n",
       "25392  [2168, 12313, 3, 1, 1, 1, 1, 1, 1, 1, 1, 1, 1,...  \n",
       "25393  [1588, 11, 2463, 3, 1, 1, 1, 1, 1, 1, 1, 1, 1,...  \n",
       "25394  [7599, 64, 2247, 3, 1, 1, 1, 1, 1, 1, 1, 1, 1,...  \n",
       "25395  [7599, 427, 12314, 3, 1, 1, 1, 1, 1, 1, 1, 1, ...  \n",
       "25396  [1776, 12243, 3, 1, 1, 1, 1, 1, 1, 1, 1, 1, 1,...  \n",
       "\n",
       "[25397 rows x 7 columns]"
      ]
     },
     "execution_count": 7,
     "metadata": {},
     "output_type": "execute_result"
    }
   ],
   "source": [
    "max_pad = 24 \n",
    "cls_token = 2\n",
    "sep_token = 3\n",
    "\n",
    "def pad_sequence_source(tokens, max_len, cls_token=2,sep_token = 3):\n",
    "    \n",
    "    padded_tokens = [cls_token] + tokens + [sep_token]\n",
    "    \n",
    "    if len(padded_tokens) < max_len:\n",
    "        padded_tokens.extend([1] * (max_len - len(padded_tokens)))\n",
    "\n",
    "    else:\n",
    "        padded_tokens = padded_tokens[:max_len]\n",
    "\n",
    "    return padded_tokens\n",
    "\n",
    "def pad_sequence_target(tokens, max_len, cls_token = 2):\n",
    "    \n",
    "    padded_tokens = [cls_token] + tokens\n",
    "\n",
    "    if len(padded_tokens) < max_len:\n",
    "        padded_tokens.extend([1] * (max_len - len(padded_tokens)))\n",
    "\n",
    "    else:\n",
    "        padded_tokens = padded_tokens[:max_len]\n",
    "\n",
    "    return padded_tokens\n",
    "\n",
    "def pad_sequence_label(tokens, max_len, sep_token = 3):\n",
    "    padded_tokens = tokens + [sep_token]\n",
    "\n",
    "    if len(padded_tokens) < max_len:\n",
    "        padded_tokens.extend([1] * (max_len - len(padded_tokens)))\n",
    "        \n",
    "    else:\n",
    "        padded_tokens = padded_tokens[:max_len]\n",
    "\n",
    "    return padded_tokens\n",
    "\n",
    "df['Padded_english'] = df['Tokenized_english'].apply(lambda x: pad_sequence_source(x, max_pad, cls_token,sep_token))\n",
    "df['Padded_akan'] = df['Tokenized_akan'].apply(lambda x: pad_sequence_target(x, max_pad, cls_token))\n",
    "df['Padded_akan_Target'] = df['Tokenized_akan'].apply(lambda x: pad_sequence_label(x, max_pad,sep_token))\n",
    "\n",
    "df"
   ]
  },
  {
   "cell_type": "code",
   "execution_count": null,
   "metadata": {
    "execution": {
     "iopub.execute_input": "2025-04-03T18:36:52.082271Z",
     "iopub.status.busy": "2025-04-03T18:36:52.081926Z",
     "iopub.status.idle": "2025-04-03T18:36:52.118039Z",
     "shell.execute_reply": "2025-04-03T18:36:52.117336Z",
     "shell.execute_reply.started": "2025-04-03T18:36:52.082219Z"
    },
    "trusted": true
   },
   "outputs": [
    {
     "name": "stdout",
     "output_type": "stream",
     "text": [
      "     english   akan Tokenized_akan Tokenized_english  \\\n",
      "0      Wait.  Twɛn.         [7091]            [7764]   \n",
      "1        Go.    Kɔ.         [8575]            [9666]   \n",
      "2    Listen.   Tie.        [10911]           [11655]   \n",
      "3      Jump.  Jump.        [12301]           [13008]   \n",
      "4  Look out!   Hwɛ!         [9824]      [2202, 8103]   \n",
      "\n",
      "                                      Padded_english  \\\n",
      "0  [2, 7764, 3, 1, 1, 1, 1, 1, 1, 1, 1, 1, 1, 1, ...   \n",
      "1  [2, 9666, 3, 1, 1, 1, 1, 1, 1, 1, 1, 1, 1, 1, ...   \n",
      "2  [2, 11655, 3, 1, 1, 1, 1, 1, 1, 1, 1, 1, 1, 1,...   \n",
      "3  [2, 13008, 3, 1, 1, 1, 1, 1, 1, 1, 1, 1, 1, 1,...   \n",
      "4  [2, 2202, 8103, 3, 1, 1, 1, 1, 1, 1, 1, 1, 1, ...   \n",
      "\n",
      "                                         Padded_akan  \\\n",
      "0  [2, 7091, 1, 1, 1, 1, 1, 1, 1, 1, 1, 1, 1, 1, ...   \n",
      "1  [2, 8575, 1, 1, 1, 1, 1, 1, 1, 1, 1, 1, 1, 1, ...   \n",
      "2  [2, 10911, 1, 1, 1, 1, 1, 1, 1, 1, 1, 1, 1, 1,...   \n",
      "3  [2, 12301, 1, 1, 1, 1, 1, 1, 1, 1, 1, 1, 1, 1,...   \n",
      "4  [2, 9824, 1, 1, 1, 1, 1, 1, 1, 1, 1, 1, 1, 1, ...   \n",
      "\n",
      "                                  Padded_akan_Target  total_token_length  \n",
      "0  [7091, 3, 1, 1, 1, 1, 1, 1, 1, 1, 1, 1, 1, 1, ...                   2  \n",
      "1  [8575, 3, 1, 1, 1, 1, 1, 1, 1, 1, 1, 1, 1, 1, ...                   2  \n",
      "2  [10911, 3, 1, 1, 1, 1, 1, 1, 1, 1, 1, 1, 1, 1,...                   2  \n",
      "3  [12301, 3, 1, 1, 1, 1, 1, 1, 1, 1, 1, 1, 1, 1,...                   2  \n",
      "4  [9824, 3, 1, 1, 1, 1, 1, 1, 1, 1, 1, 1, 1, 1, ...                   3  \n"
     ]
    }
   ],
   "source": [
    "# Adding a new column for the combined length of english and akan tokens\n",
    "df[\"total_token_length\"] = df[\"Tokenized_english\"].apply(len) + df[\"Tokenized_akan\"].apply(len)\n",
    "\n",
    "# Sorting the DataFrame by the total token length\n",
    "df_sorted = df.sort_values(by=\"total_token_length\")\n",
    "\n",
    "# Resetting the index for the sorted DataFrame\n",
    "df_sorted.reset_index(drop=True, inplace=True)\n",
    "\n",
    "print(df_sorted.head())\n",
    "\n",
    "level1 = df_sorted[:730]\n",
    "\n",
    "level2 = df_sorted[:-1216]\n",
    "\n",
    "level3 = df_sorted \n",
    "\n",
    "hybrid = df.iloc[1240:1970] "
   ]
  },
  {
   "cell_type": "markdown",
   "metadata": {},
   "source": [
    "DISTRIBUTION OF TOTAL TOKEN LENGTH"
   ]
  },
  {
   "cell_type": "code",
   "execution_count": null,
   "metadata": {
    "execution": {
     "iopub.execute_input": "2025-04-03T18:36:57.712713Z",
     "iopub.status.busy": "2025-04-03T18:36:57.712426Z",
     "iopub.status.idle": "2025-04-03T18:36:58.246945Z",
     "shell.execute_reply": "2025-04-03T18:36:58.246215Z",
     "shell.execute_reply.started": "2025-04-03T18:36:57.712690Z"
    },
    "trusted": true
   },
   "outputs": [
    {
     "data": {
      "image/png": "[encoded data removed]",
      "text/plain": [
       "<Figure size 1000x600 with 1 Axes>"
      ]
     },
     "metadata": {},
     "output_type": "display_data"
    },
    {
     "data": {
      "image/png": "[encoded data removed]",
      "text/plain": [
       "<Figure size 800x400 with 1 Axes>"
      ]
     },
     "metadata": {},
     "output_type": "display_data"
    }
   ],
   "source": [
    "# Plotting the distribution of total token length using a histogram\n",
    "plt.figure(figsize=(10, 6))\n",
    "sns.histplot(df_sorted[\"total_token_length\"], bins=40, kde=True, color=\"skyblue\")\n",
    "plt.title(\"Distribution of Total Token Length\", fontsize=16)\n",
    "plt.xlabel(\"Total Token Length (english + akan)\", fontsize=14)\n",
    "plt.ylabel(\"Frequency\", fontsize=14)\n",
    "plt.grid(axis=\"y\", linestyle=\"--\", alpha=0.7)\n",
    "plt.show()\n",
    "\n",
    "# Boxplot to check the distribution of token lengths\n",
    "plt.figure(figsize=(8, 4))\n",
    "sns.boxplot(x=df_sorted[\"total_token_length\"], color=\"lightcoral\")\n",
    "plt.title(\"Boxplot of Total Token Length\", fontsize=16)\n",
    "plt.xlabel(\"Total Token Length (english + akan)\", fontsize=14)\n",
    "plt.show()"
   ]
  },
  {
   "cell_type": "code",
   "execution_count": null,
   "metadata": {
    "execution": {
     "iopub.execute_input": "2025-04-03T18:37:09.898731Z",
     "iopub.status.busy": "2025-04-03T18:37:09.898412Z",
     "iopub.status.idle": "2025-04-03T18:37:09.905431Z",
     "shell.execute_reply": "2025-04-03T18:37:09.904342Z",
     "shell.execute_reply.started": "2025-04-03T18:37:09.898709Z"
    },
    "trusted": true
   },
   "outputs": [],
   "source": [
    "class TranslationDataset(Dataset):\n",
    "    def __init__(self, dataframe, pad_token=1):\n",
    "        self.dataframe = dataframe\n",
    "        self.pad_token = pad_token \n",
    "\n",
    "    def __len__(self):\n",
    "        return len(self.dataframe)\n",
    "\n",
    "    def __getitem__(self, idx):\n",
    "        english =  self.dataframe.iloc[idx][\"english\"]\n",
    "        akan =  self.dataframe.iloc[idx][\"akan\"]\n",
    "        english_tokens =  torch.tensor(self.dataframe.iloc[idx][\"Padded_english\"],  dtype=torch.long) \n",
    "        akan_tokens = torch.tensor(self.dataframe.iloc[idx][\"Padded_akan\"],  dtype=torch.long)  \n",
    "        akan_target_tokens = torch.tensor(self.dataframe.iloc[idx][\"Padded_akan_Target\"],  dtype=torch.long)  \n",
    "\n",
    "        def causal_mask(size):\n",
    "              mask = torch.triu(torch.ones((1, size, size)), diagonal=1).type(torch.int)\n",
    "              return mask == 0\n",
    "        # Return the sequence and masks in a dictionary\n",
    "        return {\n",
    "            \"english\": english,\n",
    "            \"akan\": akan,\n",
    "            \"english_token\": english_tokens.clone(),\n",
    "            \"akan_token\": akan_tokens.clone(),\n",
    "            \"akan_target\": akan_target_tokens.clone(),\n",
    "            \"encoder_mask\": (english_tokens != self.pad_token).unsqueeze(0).unsqueeze(0).int().clone(),\n",
    "            \"decoder_mask\": (akan_tokens != self.pad_token).unsqueeze(0).int() & causal_mask(akan_tokens.size(0)).clone(),\n",
    "        }"
   ]
  },
  {
   "cell_type": "code",
   "execution_count": null,
   "metadata": {
    "execution": {
     "iopub.execute_input": "2025-04-03T18:37:14.914029Z",
     "iopub.status.busy": "2025-04-03T18:37:14.913745Z",
     "iopub.status.idle": "2025-04-03T18:37:15.004487Z",
     "shell.execute_reply": "2025-04-03T18:37:15.003702Z",
     "shell.execute_reply.started": "2025-04-03T18:37:14.914005Z"
    },
    "trusted": true
   },
   "outputs": [
    {
     "name": "stdout",
     "output_type": "stream",
     "text": [
      "Batch 1:\n",
      "  english sequence: [\"I'll remember you forever.\", 'Whoever comes will be welcome.', 'Asamoah vanished.', 'The dog likes that kind of food.', 'This contest is fixed.', \"Asamoah should have invited Abena, but he didn't.\", 'I saw him being scolded by his mother.', 'Why should I hire you?', 'Asamoah claimed he saw a UFO.', \"There's something about Abena that makes her irresistible.\", 'Am I on the right road?', \"Asamoah doesn't like swimming in pools. He prefers swimming in lakes and rivers.\", 'I needed this.', \"I didn't ask.\", 'You are always complaining.', 'Kwabena and I helped each other.']\n",
      "  akan sequence: ['Me werɛ remfi wo da.', 'Obiara a ɔbɛba no, wobegye no fɛw so.', 'Asamoah yerae', 'ɔkraman no pɛ aduan a ɛte saa.', 'Wɔde akansi yi asi hɔ.', 'Esiane sɛ na anka ɛsɛ sɛ Yaso to nsa frɛ Abena nti, wamfrɛ no, nanso wanyɛ saa.', \"Mihuu sɛ ne maame reka n'anim.\", 'Deɛn nti na ɛsɛ sɛ mebɔ wo paa?', 'Bere a Asamoah kae sɛ wahu UFO bi.', 'Biribi wɔ hɔ a wɔfrɛ no Abena a enti ontumi nyɛ ho hwee.', 'So menam ɔkwantrenee no so?', \"Te sɛ po so hyɛn a ɛnam atare mu no, n'ani nnye ho sɛ ɔbɛguare atare ne nsubɔnten mu.\", 'Ná mihia eyi.', 'Mammisa.', 'Wonwiinwii bere biara', 'Me ne Kwabena boaa yɛn ho yɛn ho.']\n",
      "  english token shape: torch.Size([16, 24])\n",
      "  akan token shape: torch.Size([16, 24])\n",
      "  akan target sequence shape: torch.Size([16, 24])\n",
      "  english pad mask shape: torch.Size([16, 1, 1, 24])\n",
      "  Combined akan mask shape: torch.Size([16, 1, 24, 24])\n",
      "Batch 1:\n",
      "  english sequence: ['I want to eat meat and vegetables.']\n",
      "  akan sequence: ['Mepɛ sɛ midi nam ne atosode.']\n",
      "  english token shape: torch.Size([1, 24])\n",
      "  akan token shape: torch.Size([1, 24])\n",
      "  akan target sequence shape: torch.Size([1, 24])\n",
      "  english pad mask shape: torch.Size([1, 1, 1, 24])\n",
      "  Combined akan mask shape: torch.Size([1, 1, 24, 24])\n"
     ]
    }
   ],
   "source": [
    "dataset1 = TranslationDataset(level1)  \n",
    "train_dataloader_1 = DataLoader(dataset1, batch_size = 16, shuffle=True) \n",
    "test_dataloader_1 = DataLoader(dataset1, batch_size=1, shuffle=True) \n",
    "\n",
    "dataset2 = TranslationDataset(level2) \n",
    "train_dataloader_2 = DataLoader(dataset2, batch_size = 16, shuffle=True) \n",
    "test_dataloader_2 = DataLoader(dataset2, batch_size=1, shuffle=True) \n",
    "\n",
    "dataset3 = TranslationDataset(level3)  \n",
    "train_dataloader_3 = DataLoader(dataset3, batch_size = 16, shuffle=True) \n",
    "test_dataloader_3 = DataLoader(dataset3, batch_size=1, shuffle=True) \n",
    "\n",
    "\n",
    "for batch_idx, batch in enumerate(train_dataloader_3):\n",
    "    print(f\"Batch {batch_idx + 1}:\")\n",
    "\n",
    "    print(f\"  english sequence: {batch['english']}\")  \n",
    "    print(f\"  akan sequence: {batch['akan']}\") \n",
    "    print(f\"  english token shape: {batch['english_token'].shape}\")  \n",
    "    print(f\"  akan token shape: {batch['akan_token'].shape}\")  \n",
    "    print(f\"  akan target sequence shape: {batch['akan_target'].shape}\") \n",
    "    print(f\"  english pad mask shape: {batch['encoder_mask'].shape}\") \n",
    "    print(f\"  Combined akan mask shape: {batch['decoder_mask'].shape}\") \n",
    "    break\n",
    "    \n",
    "# Iterate through batches\n",
    "for batch_idx, batch in enumerate(test_dataloader_3):\n",
    "    print(f\"Batch {batch_idx + 1}:\")\n",
    "\n",
    "    # Check the shapes of each tensor in the batch\n",
    "    print(f\"  english sequence: {batch['english']}\")  \n",
    "    print(f\"  akan sequence: {batch['akan']}\") \n",
    "    print(f\"  english token shape: {batch['english_token'].shape}\") \n",
    "    print(f\"  akan token shape: {batch['akan_token'].shape}\") \n",
    "    print(f\"  akan target sequence shape: {batch['akan_target'].shape}\") \n",
    "    print(f\"  english pad mask shape: {batch['encoder_mask'].shape}\") \n",
    "    print(f\"  Combined akan mask shape: {batch['decoder_mask'].shape}\") \n",
    "    break"
   ]
  },
  {
   "cell_type": "code",
   "execution_count": null,
   "metadata": {
    "execution": {
     "iopub.execute_input": "2025-04-03T18:15:26.125133Z",
     "iopub.status.busy": "2025-04-03T18:15:26.124763Z",
     "iopub.status.idle": "2025-04-03T18:15:26.131578Z",
     "shell.execute_reply": "2025-04-03T18:15:26.130567Z",
     "shell.execute_reply.started": "2025-04-03T18:15:26.125105Z"
    },
    "trusted": true
   },
   "outputs": [
    {
     "name": "stdout",
     "output_type": "stream",
     "text": [
      "Vocabulary: 12315\n",
      "Vocabulary: 13026\n"
     ]
    }
   ],
   "source": [
    "print(\"Vocabulary:\", len(akan_tokenizer.word_to_id))\n",
    "print(\"Vocabulary:\", len(english_tokenizer.word_to_id))"
   ]
  },
  {
   "cell_type": "markdown",
   "metadata": {},
   "source": [
    "MODEL ARCHITECTURE"
   ]
  },
  {
   "cell_type": "code",
   "execution_count": null,
   "metadata": {
    "execution": {
     "iopub.execute_input": "2025-04-03T18:37:24.036235Z",
     "iopub.status.busy": "2025-04-03T18:37:24.035951Z",
     "iopub.status.idle": "2025-04-03T18:37:24.382200Z",
     "shell.execute_reply": "2025-04-03T18:37:24.381538Z",
     "shell.execute_reply.started": "2025-04-03T18:37:24.036213Z"
    },
    "trusted": true
   },
   "outputs": [
    {
     "name": "stdout",
     "output_type": "stream",
     "text": [
      "Using device: cpu\n"
     ]
    }
   ],
   "source": [
    "device = torch.device(\"cuda\" if torch.cuda.is_available() else \"cpu\")\n",
    "print(f\"Using device: {device}\")\n",
    "\n",
    "# src_vocab_size = 8100\n",
    "# tgt_vocab_size = 15529\n",
    "src_vocab_size = 13026\n",
    "tgt_vocab_size = 12315\n",
    "d_model = 64\n",
    "n_heads = 8\n",
    "d_ff = 512\n",
    "n_enc_layers = 8\n",
    "n_dec_layers = 8\n",
    "dropout = 0.1\n",
    "\n",
    "class PositionalEncoding(nn.Module):\n",
    "    def __init__(self, d_model, max_len=5000):\n",
    "        super(PositionalEncoding, self).__init__()\n",
    "        pe = torch.zeros(max_len, d_model)\n",
    "        position = torch.arange(0, max_len).unsqueeze(1)\n",
    "        div_term = torch.exp(torch.arange(0, d_model, 2) * -(math.log(10000.0) / d_model))\n",
    "        pe[:, 0::2] = torch.sin(position * div_term)\n",
    "        pe[:, 1::2] = torch.cos(position * div_term)\n",
    "        pe = pe.unsqueeze(0)\n",
    "        self.register_buffer('pe', pe)\n",
    "\n",
    "    def forward(self, x):\n",
    "        return x + self.pe[:, :x.size(1)]\n",
    "\n",
    "class MultiHeadSelfAttention(nn.Module):\n",
    "\n",
    "    def __init__(self, d_model: int, h: int, dropout: float) -> None:\n",
    "        super().__init__()\n",
    "        self.d_model = d_model # Embedding vector size\n",
    "        self.h = h # Number of heads\n",
    "        # Make sure d_model is divisible by h\n",
    "        assert d_model % h == 0, \"d_model is not divisible by h\"\n",
    "\n",
    "        self.d_k = d_model // h # Dimension of vector seen by each head\n",
    "        self.w_q = nn.Linear(d_model, d_model, bias=False) # Wq\n",
    "        self.w_k = nn.Linear(d_model, d_model, bias=False) # Wk\n",
    "        self.w_v = nn.Linear(d_model, d_model, bias=False) # Wv\n",
    "        self.w_o = nn.Linear(d_model, d_model, bias=False) # Wo\n",
    "        self.dropout = nn.Dropout(dropout)\n",
    "\n",
    "    @staticmethod\n",
    "    def attention(query, key, value, mask, dropout: nn.Dropout):\n",
    "        d_k = query.shape[-1]\n",
    "        attention_scores = (query @ key.transpose(-2, -1)) / math.sqrt(d_k)\n",
    "        if mask is not None:\n",
    "            attention_scores.masked_fill_(mask == 0, -1e9)\n",
    "            # Applying softmax activation function\n",
    "        attention_scores = attention_scores.softmax(dim=-1)\n",
    "        if dropout is not None:\n",
    "            attention_scores = dropout(attention_scores)\n",
    "        return (attention_scores @ value), attention_scores\n",
    "\n",
    "    def forward(self, q, k, v, mask):\n",
    "        query = self.w_q(q)\n",
    "        key = self.w_k(k)\n",
    "        value = self.w_v(v)\n",
    "        query = query.view(query.shape[0], query.shape[1], self.h, self.d_k).transpose(1, 2)\n",
    "        key = key.view(key.shape[0], key.shape[1], self.h, self.d_k).transpose(1, 2)\n",
    "        value = value.view(value.shape[0], value.shape[1], self.h, self.d_k).transpose(1, 2)\n",
    "\n",
    "        # Calculating attention scores\n",
    "        x, self.attention_scores = MultiHeadSelfAttention.attention(query, key, value, mask, self.dropout)\n",
    "\n",
    "        # Combine the heads together\n",
    "        x = x.transpose(1, 2).contiguous().view(x.shape[0], -1, self.h * self.d_k)\n",
    "        return self.w_o(x)\n",
    "\n",
    "class FeedForward(nn.Module):\n",
    "    def __init__(self, d_model, d_ff):\n",
    "        super(FeedForward, self).__init__()\n",
    "        self.linear1 = nn.Linear(d_model, d_ff)\n",
    "        self.relu = nn.ReLU()\n",
    "        self.linear2 = nn.Linear(d_ff, d_model)\n",
    "\n",
    "    def forward(self, x):\n",
    "        return self.linear2(self.relu(self.linear1(x)))\n",
    "\n",
    "class EncoderLayer(nn.Module):\n",
    "    def __init__(self, d_model, n_heads, d_ff, dropout=0.1):\n",
    "        super(EncoderLayer, self).__init__()\n",
    "        self.attn = MultiHeadSelfAttention(d_model, n_heads, dropout)\n",
    "        self.ff = FeedForward(d_model, d_ff)\n",
    "        self.norm1 = nn.LayerNorm(d_model)\n",
    "        self.norm2 = nn.LayerNorm(d_model)\n",
    "        self.dropout = nn.Dropout(dropout)\n",
    "\n",
    "    def forward(self, x, mask):\n",
    "        attn_output = self.attn(x,x,x, mask)\n",
    "        x = self.norm1(x + self.dropout(attn_output))\n",
    "        ff_output = self.ff(x)\n",
    "        x = self.norm2(x + self.dropout(ff_output))\n",
    "        return x\n",
    "\n",
    "class DecoderLayer(nn.Module):\n",
    "    def __init__(self, d_model, n_heads, d_ff, dropout=0.1):\n",
    "        super(DecoderLayer, self).__init__()\n",
    "        self.self_attn = MultiHeadSelfAttention(d_model, n_heads, dropout)\n",
    "        self.enc_attn = MultiHeadSelfAttention(d_model, n_heads, dropout)\n",
    "        self.ff = FeedForward(d_model, d_ff)\n",
    "        self.norm1 = nn.LayerNorm(d_model)\n",
    "        self.norm2 = nn.LayerNorm(d_model)\n",
    "        self.norm3 = nn.LayerNorm(d_model)\n",
    "        self.dropout = nn.Dropout(dropout)\n",
    "\n",
    "    def forward(self, x, enc_output, src_mask, tgt_mask):\n",
    "        self_attn_output = self.self_attn(x ,x, x, tgt_mask)\n",
    "        x = self.norm1(x + self.dropout(self_attn_output))\n",
    "        enc_attn_output = self.enc_attn(x, enc_output, enc_output, src_mask)\n",
    "        x = self.norm2(x + self.dropout(enc_attn_output))\n",
    "        ff_output = self.ff(x)\n",
    "        x = self.norm3(x + self.dropout(ff_output))\n",
    "        return x\n",
    "\n",
    "class Encoder(nn.Module):\n",
    "    def __init__(self, input_dim, d_model, n_heads, d_ff, n_layers, dropout=0.1):\n",
    "        super(Encoder, self).__init__()\n",
    "        self.embedding = nn.Embedding(input_dim, d_model)\n",
    "        self.positional_encoding = PositionalEncoding(d_model)\n",
    "        self.layers = nn.ModuleList([EncoderLayer(d_model, n_heads, d_ff, dropout) for _ in range(n_layers)])\n",
    "\n",
    "    def forward(self, src, src_mask):\n",
    "        x = self.embedding(src)\n",
    "        x = self.positional_encoding(x)\n",
    "        for layer in self.layers:\n",
    "            x = layer(x, src_mask)\n",
    "        return x\n",
    "\n",
    "class Decoder(nn.Module):\n",
    "    def __init__(self, output_dim, d_model, n_heads, d_ff, n_layers, dropout=0.1):\n",
    "        super(Decoder, self).__init__()\n",
    "        self.embedding = nn.Embedding(output_dim, d_model)\n",
    "        self.positional_encoding = PositionalEncoding(d_model)\n",
    "        self.layers = nn.ModuleList([DecoderLayer(d_model, n_heads, d_ff, dropout) for _ in range(n_layers)])\n",
    "        self.fc_out = nn.Linear(d_model, output_dim)\n",
    "\n",
    "    def forward(self, tgt, enc_output, src_mask, tgt_mask):\n",
    "        x = self.embedding(tgt)\n",
    "        x = self.positional_encoding(x)\n",
    "        for layer in self.layers:\n",
    "            x = layer(x, enc_output, src_mask, tgt_mask)\n",
    "\n",
    "        return self.fc_out(x)\n",
    "\n",
    "class Transformer(nn.Module):\n",
    "    def __init__(self, src_vocab_size, tgt_vocab_size, d_model, n_heads, d_ff, n_enc_layers, n_dec_layers, dropout=0.1):\n",
    "        super(Transformer, self).__init__()\n",
    "        self.encoder = Encoder(src_vocab_size, d_model, n_heads, d_ff, n_enc_layers, dropout)\n",
    "        self.decoder = Decoder(tgt_vocab_size, d_model, n_heads, d_ff, n_dec_layers, dropout)\n",
    "\n",
    "    def forward(self, src, tgt, src_mask, tgt_mask):\n",
    "        enc_output = self.encoder(src, src_mask)\n",
    "        output = self.decoder(tgt, enc_output, src_mask, tgt_mask)\n",
    "        return output\n",
    "    \n",
    "model = Transformer(src_vocab_size, tgt_vocab_size, d_model, n_heads, d_ff, n_enc_layers, n_dec_layers, dropout).to(device)"
   ]
  },
  {
   "cell_type": "code",
   "execution_count": null,
   "metadata": {
    "execution": {
     "iopub.execute_input": "2025-04-03T18:37:42.052683Z",
     "iopub.status.busy": "2025-04-03T18:37:42.052366Z",
     "iopub.status.idle": "2025-04-03T18:37:42.058208Z",
     "shell.execute_reply": "2025-04-03T18:37:42.057343Z",
     "shell.execute_reply.started": "2025-04-03T18:37:42.052659Z"
    },
    "trusted": true
   },
   "outputs": [
    {
     "name": "stdout",
     "output_type": "stream",
     "text": [
      "Total model parameters: 3878427\n"
     ]
    }
   ],
   "source": [
    "def count_parameters(model):\n",
    "    return sum(p.numel() for p in model.parameters()) \n",
    "\n",
    "total_params = count_parameters(model)\n",
    "print(f\"Total model parameters: {total_params}\") "
   ]
  },
  {
   "cell_type": "markdown",
   "metadata": {},
   "source": [
    "FOR TRAINING"
   ]
  },
  {
   "cell_type": "code",
   "execution_count": null,
   "metadata": {
    "execution": {
     "execution_failed": "2025-04-03T18:33:27.243Z",
     "iopub.execute_input": "2025-04-03T18:15:26.279517Z",
     "iopub.status.busy": "2025-04-03T18:15:26.279191Z"
    },
    "trusted": true
   },
   "outputs": [
    {
     "name": "stdout",
     "output_type": "stream",
     "text": [
      "Using device: cpu\n",
      "Checkpoint not found. Training from scratch.\n",
      "Training with Level 1 Data\n"
     ]
    },
    {
     "name": "stderr",
     "output_type": "stream",
     "text": [
      "Processing Epoch 01: 100%|██████████| 46/46 [00:11<00:00,  3.91it/s, loss=7.336]\n"
     ]
    },
    {
     "name": "stdout",
     "output_type": "stream",
     "text": [
      "     SOURCE:Be discreet.\n",
      "     TARGET:Yɛ anifere.\n",
      "  PREDICTED:\n",
      "--------------------------------------------------------------------------------\n",
      "Training with Level 1 Data\n"
     ]
    },
    {
     "name": "stderr",
     "output_type": "stream",
     "text": [
      "Processing Epoch 02: 100%|██████████| 46/46 [00:11<00:00,  3.86it/s, loss=6.756]\n"
     ]
    },
    {
     "name": "stdout",
     "output_type": "stream",
     "text": [
      "     SOURCE:Kwaku drives.\n",
      "     TARGET:Kwaku ka kar.\n",
      "  PREDICTED:\n",
      "--------------------------------------------------------------------------------\n",
      "Training with Level 1 Data\n"
     ]
    },
    {
     "name": "stderr",
     "output_type": "stream",
     "text": [
      "Processing Epoch 03: 100%|██████████| 46/46 [00:13<00:00,  3.33it/s, loss=6.499]\n"
     ]
    },
    {
     "name": "stdout",
     "output_type": "stream",
     "text": [
      "     SOURCE:He walks slowly.\n",
      "     TARGET:Ɔnantew brɛoo.\n",
      "  PREDICTED:\n",
      "--------------------------------------------------------------------------------\n",
      "Training with Level 1 Data\n"
     ]
    },
    {
     "name": "stderr",
     "output_type": "stream",
     "text": [
      "Processing Epoch 04: 100%|██████████| 46/46 [00:12<00:00,  3.76it/s, loss=6.033]\n"
     ]
    },
    {
     "name": "stdout",
     "output_type": "stream",
     "text": [
      "     SOURCE:Let me speak.\n",
      "     TARGET:Ma menka.\n",
      "  PREDICTED:\n",
      "--------------------------------------------------------------------------------\n",
      "Training with Level 1 Data\n"
     ]
    },
    {
     "name": "stderr",
     "output_type": "stream",
     "text": [
      "Processing Epoch 05: 100%|██████████| 46/46 [00:12<00:00,  3.79it/s, loss=5.806]\n"
     ]
    },
    {
     "name": "stdout",
     "output_type": "stream",
     "text": [
      "     SOURCE:We're home.\n",
      "     TARGET:Yɛwɔ fie.\n",
      "  PREDICTED:\n",
      "--------------------------------------------------------------------------------\n",
      "Training with Level 1 Data\n"
     ]
    },
    {
     "name": "stderr",
     "output_type": "stream",
     "text": [
      "Processing Epoch 06: 100%|██████████| 46/46 [00:12<00:00,  3.69it/s, loss=5.714]\n"
     ]
    },
    {
     "name": "stdout",
     "output_type": "stream",
     "text": [
      "     SOURCE:Stop fighting!\n",
      "     TARGET:Gyae ɔko!\n",
      "  PREDICTED:\n",
      "--------------------------------------------------------------------------------\n",
      "Training with Level 1 Data\n"
     ]
    },
    {
     "name": "stderr",
     "output_type": "stream",
     "text": [
      "Processing Epoch 07: 100%|██████████| 46/46 [00:12<00:00,  3.66it/s, loss=5.604]\n"
     ]
    },
    {
     "name": "stdout",
     "output_type": "stream",
     "text": [
      "     SOURCE:I'm skinny.\n",
      "     TARGET:Meyɛ teatea\n",
      "  PREDICTED:\n",
      "--------------------------------------------------------------------------------\n",
      "Training with Level 1 Data\n"
     ]
    },
    {
     "name": "stderr",
     "output_type": "stream",
     "text": [
      "Processing Epoch 08: 100%|██████████| 46/46 [00:12<00:00,  3.75it/s, loss=5.307]\n"
     ]
    },
    {
     "name": "stdout",
     "output_type": "stream",
     "text": [
      "     SOURCE:He dislikes me.\n",
      "     TARGET:Ɔmpɛ m'asɛm.\n",
      "  PREDICTED:\n",
      "--------------------------------------------------------------------------------\n",
      "Training with Level 1 Data\n"
     ]
    },
    {
     "name": "stderr",
     "output_type": "stream",
     "text": [
      "Processing Epoch 09: 100%|██████████| 46/46 [00:12<00:00,  3.57it/s, loss=4.976]\n"
     ]
    },
    {
     "name": "stdout",
     "output_type": "stream",
     "text": [
      "     SOURCE:It's not important.\n",
      "     TARGET:Ɛho nhia.\n",
      "  PREDICTED:\n",
      "--------------------------------------------------------------------------------\n",
      "Training with Level 1 Data\n"
     ]
    },
    {
     "name": "stderr",
     "output_type": "stream",
     "text": [
      "Processing Epoch 10: 100%|██████████| 46/46 [00:12<00:00,  3.64it/s, loss=4.764]\n"
     ]
    },
    {
     "name": "stdout",
     "output_type": "stream",
     "text": [
      "     SOURCE:They help us.\n",
      "     TARGET:Ɛboa yɛn.\n",
      "  PREDICTED:\n",
      "--------------------------------------------------------------------------------\n",
      "Training with Level 1 Data\n"
     ]
    },
    {
     "name": "stderr",
     "output_type": "stream",
     "text": [
      "Processing Epoch 11: 100%|██████████| 46/46 [00:11<00:00,  3.85it/s, loss=4.923]\n"
     ]
    },
    {
     "name": "stdout",
     "output_type": "stream",
     "text": [
      "     SOURCE:Are you sick?\n",
      "     TARGET:Woyare?\n",
      "  PREDICTED:\n",
      "--------------------------------------------------------------------------------\n",
      "Training with Level 2 Data\n"
     ]
    },
    {
     "name": "stderr",
     "output_type": "stream",
     "text": [
      "Processing Epoch 12: 100%|██████████| 1512/1512 [07:05<00:00,  3.56it/s, loss=5.605]\n"
     ]
    },
    {
     "name": "stdout",
     "output_type": "stream",
     "text": [
      "     SOURCE:The world's largest telescope is in the Canary Islands.\n",
      "     TARGET:Afiri a wɔde hwɛ akyirikyiri ade sen biara wɔ wiase ne Canary Islands.\n",
      "  PREDICTED:Ná no no no a na na na nea no no no mu.\n",
      "--------------------------------------------------------------------------------\n",
      "Training with Level 2 Data\n"
     ]
    },
    {
     "name": "stderr",
     "output_type": "stream",
     "text": [
      "Processing Epoch 13: 100%|██████████| 1512/1512 [06:41<00:00,  3.77it/s, loss=5.136]\n"
     ]
    },
    {
     "name": "stdout",
     "output_type": "stream",
     "text": [
      "     SOURCE:They often go on picnics by bicycle.\n",
      "     TARGET:Mpɛn pii no, wɔde sakre na ɛkɔ akwamma.\n",
      "  PREDICTED:Ná ɛyɛ me ho sɛ ɔyɛ no mu.\n",
      "--------------------------------------------------------------------------------\n",
      "Training with Level 2 Data\n"
     ]
    },
    {
     "name": "stderr",
     "output_type": "stream",
     "text": [
      "Processing Epoch 14: 100%|██████████| 1512/1512 [06:02<00:00,  4.17it/s, loss=4.990]\n"
     ]
    },
    {
     "name": "stdout",
     "output_type": "stream",
     "text": [
      "     SOURCE:He can't buy a car.\n",
      "     TARGET:Ontumi ntɔ kar.\n",
      "  PREDICTED:Ná ɛyɛ den bi a wɔde yɛ den\n",
      "--------------------------------------------------------------------------------\n",
      "Training with Level 2 Data\n"
     ]
    },
    {
     "name": "stderr",
     "output_type": "stream",
     "text": [
      "Processing Epoch 15: 100%|██████████| 1512/1512 [06:33<00:00,  3.84it/s, loss=4.238]\n"
     ]
    },
    {
     "name": "stdout",
     "output_type": "stream",
     "text": [
      "     SOURCE:He will be really pleased.\n",
      "     TARGET:N'ani begye ankasa.\n",
      "  PREDICTED:Ɔde ne ho yɛ den.\n",
      "--------------------------------------------------------------------------------\n",
      "Training with Level 2 Data\n"
     ]
    },
    {
     "name": "stderr",
     "output_type": "stream",
     "text": [
      "Processing Epoch 16: 100%|██████████| 1512/1512 [07:06<00:00,  3.54it/s, loss=3.888]\n"
     ]
    },
    {
     "name": "stdout",
     "output_type": "stream",
     "text": [
      "     SOURCE:You don't have to help me.\n",
      "     TARGET:Enhia sɛ woboa me.\n",
      "  PREDICTED:Ɛsɛ sɛ meyɛ me.\n",
      "--------------------------------------------------------------------------------\n",
      "Training with Level 2 Data\n"
     ]
    },
    {
     "name": "stderr",
     "output_type": "stream",
     "text": [
      "Processing Epoch 17: 100%|██████████| 1512/1512 [06:21<00:00,  3.96it/s, loss=4.529]\n"
     ]
    },
    {
     "name": "stdout",
     "output_type": "stream",
     "text": [
      "     SOURCE:My sister used to take care of the flower bed.\n",
      "     TARGET:Ná me nuabea na ɔhwɛ nhwiren mpa no so.\n",
      "  PREDICTED:Me maame papa ne ho sɛ mɛyɛ no mu no ho.\n",
      "--------------------------------------------------------------------------------\n",
      "Training with Level 2 Data\n"
     ]
    },
    {
     "name": "stderr",
     "output_type": "stream",
     "text": [
      "Processing Epoch 18: 100%|██████████| 1512/1512 [06:29<00:00,  3.88it/s, loss=4.313]\n"
     ]
    },
    {
     "name": "stdout",
     "output_type": "stream",
     "text": [
      "     SOURCE:What do you think made him break his promise?\n",
      "     TARGET:Wususuw sɛ dɛn na ɛmaa odii ne bɔhyɛ so?\n",
      "  PREDICTED:Wususuw sɛ nea na ɛsɛ sɛ woyɛ no yɛ den\n",
      "--------------------------------------------------------------------------------\n",
      "Training with Level 2 Data\n"
     ]
    },
    {
     "name": "stderr",
     "output_type": "stream",
     "text": [
      "Processing Epoch 19: 100%|██████████| 1512/1512 [06:27<00:00,  3.90it/s, loss=3.271]\n"
     ]
    },
    {
     "name": "stdout",
     "output_type": "stream",
     "text": [
      "     SOURCE:Asamoah always complains about what Aku does.\n",
      "     TARGET:Sɛnea Asamoah ka nea Aku yɛ ho asɛm bere nyinaa no.\n",
      "  PREDICTED:Asamoah de nea ɔyɛ nea ɔyɛ ho asɛm no ho yɛ den.\n",
      "--------------------------------------------------------------------------------\n",
      "Training with Level 2 Data\n"
     ]
    },
    {
     "name": "stderr",
     "output_type": "stream",
     "text": [
      "Processing Epoch 20: 100%|██████████| 1512/1512 [06:24<00:00,  3.93it/s, loss=5.424]\n"
     ]
    },
    {
     "name": "stdout",
     "output_type": "stream",
     "text": [
      "     SOURCE:If you want to talk, let's talk.\n",
      "     TARGET:Sɛ wopɛ sɛ wo ne obi kasa a, ma wo kasa.\n",
      "  PREDICTED:Sɛ wopɛ sɛ woyɛ adwuma a, anka w'ani gye ho\n",
      "--------------------------------------------------------------------------------\n",
      "Training with Level 2 Data\n"
     ]
    },
    {
     "name": "stderr",
     "output_type": "stream",
     "text": [
      "Processing Epoch 21: 100%|██████████| 1512/1512 [06:26<00:00,  3.91it/s, loss=3.422]\n"
     ]
    },
    {
     "name": "stdout",
     "output_type": "stream",
     "text": [
      "     SOURCE:Turn right there.\n",
      "     TARGET:Kɔ hɔ ara.\n",
      "  PREDICTED:Kɔ so ara yɛ hɔ.\n",
      "--------------------------------------------------------------------------------\n",
      "Training with Level 3 Data\n"
     ]
    },
    {
     "name": "stderr",
     "output_type": "stream",
     "text": [
      "Processing Epoch 22: 100%|██████████| 1588/1588 [06:47<00:00,  3.90it/s, loss=3.480]\n"
     ]
    },
    {
     "name": "stdout",
     "output_type": "stream",
     "text": [
      "     SOURCE:Will it rain tomorrow? \"I hope not.\n",
      "     TARGET:So osu bɛtɔ ɔkyena? \" Mebɔ mpae sɛ ma ntɔ\n",
      "  PREDICTED:So ɛyɛ den ma no sɛ obi a ɛte saa a, fa so\n",
      "--------------------------------------------------------------------------------\n",
      "Training with Level 3 Data\n"
     ]
    },
    {
     "name": "stderr",
     "output_type": "stream",
     "text": [
      "Processing Epoch 23: 100%|██████████| 1588/1588 [07:07<00:00,  3.71it/s, loss=3.242]\n"
     ]
    },
    {
     "name": "stdout",
     "output_type": "stream",
     "text": [
      "     SOURCE:I don't know exactly.\n",
      "     TARGET:Minnim dekode pɔtee.\n",
      "  PREDICTED:Minnim baabi a etwa to\n",
      "--------------------------------------------------------------------------------\n",
      "Training with Level 3 Data\n"
     ]
    },
    {
     "name": "stderr",
     "output_type": "stream",
     "text": [
      "Processing Epoch 24: 100%|██████████| 1588/1588 [07:18<00:00,  3.62it/s, loss=3.083]\n"
     ]
    },
    {
     "name": "stdout",
     "output_type": "stream",
     "text": [
      "     SOURCE:I went to see his sister last week.\n",
      "     TARGET:Dapɛn a etwaam no, mekɔɔ ne nuabea nkyɛn.\n",
      "  PREDICTED:Mekɔɔ nsa kɔɔ baabi a etwaam no.\n",
      "--------------------------------------------------------------------------------\n",
      "Training with Level 3 Data\n"
     ]
    },
    {
     "name": "stderr",
     "output_type": "stream",
     "text": [
      "Processing Epoch 25: 100%|██████████| 1588/1588 [07:08<00:00,  3.71it/s, loss=3.981]\n"
     ]
    },
    {
     "name": "stdout",
     "output_type": "stream",
     "text": [
      "     SOURCE:If you want my help, you'll have to ask for it.\n",
      "     TARGET:Sɛ wopɛ me mmoa a, ɛsɛ sɛ wubisa.\n",
      "  PREDICTED:Sɛ wopɛ sɛ woka a, anka ɛsɛ sɛ wudi\n",
      "--------------------------------------------------------------------------------\n",
      "Training with Level 3 Data\n"
     ]
    },
    {
     "name": "stderr",
     "output_type": "stream",
     "text": [
      "Processing Epoch 26: 100%|██████████| 1588/1588 [07:03<00:00,  3.75it/s, loss=3.460]\n"
     ]
    },
    {
     "name": "stdout",
     "output_type": "stream",
     "text": [
      "     SOURCE:Asamoah should have gone to the dentist yesterday.\n",
      "     TARGET:Na anka ɛsɛ sɛ Asamoa kohu dɔketa a ɔhwɛ se no nnera.\n",
      "  PREDICTED:Ná ɛsɛ sɛ Asamoah ka sɛ ɔyɛ abofra no ho asɛm kyerɛ me.\n",
      "--------------------------------------------------------------------------------\n",
      "Training with Level 3 Data\n"
     ]
    },
    {
     "name": "stderr",
     "output_type": "stream",
     "text": [
      "Processing Epoch 27: 100%|██████████| 1588/1588 [07:12<00:00,  3.67it/s, loss=2.921]\n"
     ]
    },
    {
     "name": "stdout",
     "output_type": "stream",
     "text": [
      "     SOURCE:I do not know for certain what she is going to do.\n",
      "     TARGET:Minnim nea ɔbɛyɛ ankasa.\n",
      "  PREDICTED:Minnim nea ɛsɛ sɛ mihu nea ɛsɛ sɛ ɔyɛ saa.\n",
      "--------------------------------------------------------------------------------\n",
      "Training with Level 3 Data\n"
     ]
    },
    {
     "name": "stderr",
     "output_type": "stream",
     "text": [
      "Processing Epoch 28: 100%|██████████| 1588/1588 [07:15<00:00,  3.65it/s, loss=3.696]\n"
     ]
    },
    {
     "name": "stdout",
     "output_type": "stream",
     "text": [
      "     SOURCE:Osaka is the second largest city of Japan.\n",
      "     TARGET:Saa kurow no ne Japan kuropɔn a ɛto so abien a ɛso sen biara.\n",
      "  PREDICTED:Saa nhwiren no mu biara wɔ afe a ɛwɔ hɔ a ɛwɔ hɔ no mu.\n",
      "--------------------------------------------------------------------------------\n",
      "Training with Level 3 Data\n"
     ]
    },
    {
     "name": "stderr",
     "output_type": "stream",
     "text": [
      "Processing Epoch 29: 100%|██████████| 1588/1588 [07:07<00:00,  3.72it/s, loss=1.961]\n"
     ]
    },
    {
     "name": "stdout",
     "output_type": "stream",
     "text": [
      "     SOURCE:We're available.\n",
      "     TARGET:Yebenya ho.\n",
      "  PREDICTED:Yɛyɛ yɛn ho.\n",
      "--------------------------------------------------------------------------------\n",
      "Training with Level 3 Data\n"
     ]
    },
    {
     "name": "stderr",
     "output_type": "stream",
     "text": [
      "Processing Epoch 30: 100%|██████████| 1588/1588 [07:10<00:00,  3.69it/s, loss=2.375]\n"
     ]
    },
    {
     "name": "stdout",
     "output_type": "stream",
     "text": [
      "     SOURCE:I decided to tell her that I love him.\n",
      "     TARGET:Misii gyinae sɛ mɛka akyerɛ no sɛ medɔ no.\n",
      "  PREDICTED:Mekɔɔ sɛ me ne no nyɛ saa bere a na minni no.\n",
      "--------------------------------------------------------------------------------\n",
      "Training with Level 3 Data\n"
     ]
    },
    {
     "name": "stderr",
     "output_type": "stream",
     "text": [
      "Processing Epoch 31: 100%|██████████| 1588/1588 [07:08<00:00,  3.70it/s, loss=3.061]\n"
     ]
    },
    {
     "name": "stdout",
     "output_type": "stream",
     "text": [
      "     SOURCE:I can hear you loud and clear.\n",
      "     TARGET:Mete wo nne yiye.\n",
      "  PREDICTED:Mitumi gye wo ne wo yɛ den.\n",
      "--------------------------------------------------------------------------------\n",
      "Training with Level 3 Data\n"
     ]
    },
    {
     "name": "stderr",
     "output_type": "stream",
     "text": [
      "Processing Epoch 32: 100%|██████████| 1588/1588 [07:14<00:00,  3.66it/s, loss=2.866]\n"
     ]
    },
    {
     "name": "stdout",
     "output_type": "stream",
     "text": [
      "     SOURCE:I'm a little busy now.\n",
      "     TARGET:Seesei minni adagyew koraa.\n",
      "  PREDICTED:Seesei minni adagyew koraa.\n",
      "--------------------------------------------------------------------------------\n",
      "Training with Level 3 Data\n"
     ]
    },
    {
     "name": "stderr",
     "output_type": "stream",
     "text": [
      "Processing Epoch 33: 100%|██████████| 1588/1588 [07:06<00:00,  3.72it/s, loss=2.542]\n"
     ]
    },
    {
     "name": "stdout",
     "output_type": "stream",
     "text": [
      "     SOURCE:There were many things that I didn't like about that movie.\n",
      "     TARGET:Ná nneɛma pii wɔ hɔ a m'ani nnye ho wɔ sini no ho.\n",
      "  PREDICTED:Ná nnipa pii wɔ hɔ a m'ani gye ho sɛ m'ani gye ho saa.\n",
      "--------------------------------------------------------------------------------\n",
      "Training with Level 3 Data\n"
     ]
    },
    {
     "name": "stderr",
     "output_type": "stream",
     "text": [
      "Processing Epoch 34: 100%|██████████| 1588/1588 [07:05<00:00,  3.73it/s, loss=2.091]\n"
     ]
    },
    {
     "name": "stdout",
     "output_type": "stream",
     "text": [
      "     SOURCE:The prince was changed into a tree by magic.\n",
      "     TARGET:Wɔde aduru sesaa ɔhene ba no ma ɔbɛyɛɛ dua.\n",
      "  PREDICTED:Ná nhwiren no yɛ ɔman bi a emu yɛ den ahorow no mu.\n",
      "--------------------------------------------------------------------------------\n",
      "Training with Level 3 Data\n"
     ]
    },
    {
     "name": "stderr",
     "output_type": "stream",
     "text": [
      "Processing Epoch 35: 100%|██████████| 1588/1588 [07:12<00:00,  3.67it/s, loss=2.061]\n"
     ]
    },
    {
     "name": "stdout",
     "output_type": "stream",
     "text": [
      "     SOURCE:We often hear people say that time flies.\n",
      "     TARGET:Yɛtaa te sɛ nkurɔfo ka sɛ bere kɔ ntɛmntɛm.\n",
      "  PREDICTED:Yɛtaa ka sɛ nkurɔfo ka saa bere no.\n",
      "--------------------------------------------------------------------------------\n",
      "Training with Level 3 Data\n"
     ]
    },
    {
     "name": "stderr",
     "output_type": "stream",
     "text": [
      "Processing Epoch 36: 100%|██████████| 1588/1588 [07:22<00:00,  3.59it/s, loss=2.547]\n"
     ]
    },
    {
     "name": "stdout",
     "output_type": "stream",
     "text": [
      "     SOURCE:Do you know if she can speak English?\n",
      "     TARGET:So wunim sɛ obetumi aka Engiresi kasa?\n",
      "  PREDICTED:Sɛ wunim Franse kasa a, wunim Franse kasa?\n",
      "--------------------------------------------------------------------------------\n",
      "Training with Level 3 Data\n"
     ]
    },
    {
     "name": "stderr",
     "output_type": "stream",
     "text": [
      "Processing Epoch 37: 100%|██████████| 1588/1588 [07:12<00:00,  3.67it/s, loss=1.632]\n"
     ]
    },
    {
     "name": "stdout",
     "output_type": "stream",
     "text": [
      "     SOURCE:I met the president himself.\n",
      "     TARGET:Mihyiaa ɔmampanyin no ankasa.\n",
      "  PREDICTED:Mihyiaa ɔmampanyin no bi.\n",
      "--------------------------------------------------------------------------------\n",
      "Training with Level 3 Data\n"
     ]
    },
    {
     "name": "stderr",
     "output_type": "stream",
     "text": [
      "Processing Epoch 38: 100%|██████████| 1588/1588 [07:06<00:00,  3.72it/s, loss=2.088]\n"
     ]
    },
    {
     "name": "stdout",
     "output_type": "stream",
     "text": [
      "     SOURCE:Lots of old people are killed in traffic accidents every year.\n",
      "     TARGET:Nnipa  pii na kar akwanhyia kunkum wɔn afe biara.\n",
      "  PREDICTED:Nnipa pii na wɔwɔ kar akwanhyia no mu biara wɔ afe biara mu.\n",
      "--------------------------------------------------------------------------------\n",
      "Training with Level 3 Data\n"
     ]
    },
    {
     "name": "stderr",
     "output_type": "stream",
     "text": [
      "Processing Epoch 39: 100%|██████████| 1588/1588 [07:07<00:00,  3.72it/s, loss=1.876]\n"
     ]
    },
    {
     "name": "stdout",
     "output_type": "stream",
     "text": [
      "     SOURCE:I went back to my seat.\n",
      "     TARGET:Mesan kɔɔ m'agua so.\n",
      "  PREDICTED:Mekɔɔ me sakre no kɔɔ sukuu.\n",
      "--------------------------------------------------------------------------------\n",
      "Training with Level 3 Data\n"
     ]
    },
    {
     "name": "stderr",
     "output_type": "stream",
     "text": [
      "Processing Epoch 40: 100%|██████████| 1588/1588 [07:16<00:00,  3.64it/s, loss=2.110]\n"
     ]
    },
    {
     "name": "stdout",
     "output_type": "stream",
     "text": [
      "     SOURCE:The rumor may or may not be true.\n",
      "     TARGET:Ebetumi aba sɛ nea wɔreka ho asɛm no yɛ nokware anaa ɛnyɛ nokware.\n",
      "  PREDICTED:Ebetumi aba sɛ na sukyerɛmma ayɛ nokware anaa ɛnte saa?\n",
      "--------------------------------------------------------------------------------\n",
      "Training with Level 3 Data\n"
     ]
    },
    {
     "name": "stderr",
     "output_type": "stream",
     "text": [
      "Processing Epoch 41: 100%|██████████| 1588/1588 [07:07<00:00,  3.71it/s, loss=2.724]\n"
     ]
    },
    {
     "name": "stdout",
     "output_type": "stream",
     "text": [
      "     SOURCE:Was it you that left the door open last night?\n",
      "     TARGET:Wo na wufii ɔpon no mu anadwo a etwaam no?\n",
      "  PREDICTED:So na wotee sɛ wubehu apontow no ase anadwo a etwaam no?\n",
      "--------------------------------------------------------------------------------\n",
      "Training with Level 3 Data\n"
     ]
    },
    {
     "name": "stderr",
     "output_type": "stream",
     "text": [
      "Processing Epoch 42: 100%|██████████| 1588/1588 [07:10<00:00,  3.69it/s, loss=1.870]\n"
     ]
    },
    {
     "name": "stdout",
     "output_type": "stream",
     "text": [
      "     SOURCE:Here is a present for you in token of our appreciation.\n",
      "     TARGET:Nea edidi so yi yɛ anisɔ a yɛwɔ ma no.\n",
      "  PREDICTED:Afe a edi hɔ no, sukyerɛmma ayɛ den sɛ wode ma yɛn sɛ yɛbɔ no.\n",
      "--------------------------------------------------------------------------------\n",
      "Training with Level 3 Data\n"
     ]
    },
    {
     "name": "stderr",
     "output_type": "stream",
     "text": [
      "Processing Epoch 43: 100%|██████████| 1588/1588 [07:06<00:00,  3.72it/s, loss=1.721]\n"
     ]
    },
    {
     "name": "stdout",
     "output_type": "stream",
     "text": [
      "     SOURCE:You are no longer a child.\n",
      "     TARGET:Wonyɛ abofra bio.\n",
      "  PREDICTED:Wo nni adagyew koraa.\n",
      "--------------------------------------------------------------------------------\n",
      "Training with Level 3 Data\n"
     ]
    },
    {
     "name": "stderr",
     "output_type": "stream",
     "text": [
      "Processing Epoch 44: 100%|██████████| 1588/1588 [07:04<00:00,  3.74it/s, loss=1.840]\n"
     ]
    },
    {
     "name": "stdout",
     "output_type": "stream",
     "text": [
      "     SOURCE:It was Asamoah who stabbed Abena.\n",
      "     TARGET:Ɛyɛ Asamoah na ɔwɔɔ Abena sekan.\n",
      "  PREDICTED:Ɛyɛ Asamoa wɔ Abena fie.\n",
      "--------------------------------------------------------------------------------\n",
      "Training with Level 3 Data\n"
     ]
    },
    {
     "name": "stderr",
     "output_type": "stream",
     "text": [
      "Processing Epoch 45: 100%|██████████| 1588/1588 [07:28<00:00,  3.54it/s, loss=2.349] \n"
     ]
    },
    {
     "name": "stdout",
     "output_type": "stream",
     "text": [
      "     SOURCE:Asamoah told me he doesn't want to work with you.\n",
      "     TARGET:Sɛnea Asamoah ka kyerɛɛ me no, ɔmpɛ sɛ ɔne wo yɛ adwuma.\n",
      "  PREDICTED:Asamoah ka kyerɛɛ me sɛ ɔne wo yɛ adwuma.\n",
      "--------------------------------------------------------------------------------\n",
      "Training with Level 3 Data\n"
     ]
    },
    {
     "name": "stderr",
     "output_type": "stream",
     "text": [
      "Processing Epoch 46: 100%|██████████| 1588/1588 [07:06<00:00,  3.72it/s, loss=2.390]\n"
     ]
    },
    {
     "name": "stdout",
     "output_type": "stream",
     "text": [
      "     SOURCE:Science is very exciting.\n",
      "     TARGET:Nyansahu yɛ anigye yiye.\n",
      "  PREDICTED:Nyansahu yɛ duru paa.\n",
      "--------------------------------------------------------------------------------\n",
      "Training with Level 3 Data\n"
     ]
    },
    {
     "name": "stderr",
     "output_type": "stream",
     "text": [
      "Processing Epoch 47: 100%|██████████| 1588/1588 [07:09<00:00,  3.70it/s, loss=1.548]\n"
     ]
    },
    {
     "name": "stdout",
     "output_type": "stream",
     "text": [
      "     SOURCE:Who designed the White House?\n",
      "     TARGET:Hena na ɔyɛɛ White Fie no?\n",
      "  PREDICTED:Hena na ɔmaa nkonim wɔ keeki no mu?\n",
      "--------------------------------------------------------------------------------\n",
      "Training with Level 3 Data\n"
     ]
    },
    {
     "name": "stderr",
     "output_type": "stream",
     "text": [
      "Processing Epoch 48: 100%|██████████| 1588/1588 [07:10<00:00,  3.68it/s, loss=1.699]\n"
     ]
    },
    {
     "name": "stdout",
     "output_type": "stream",
     "text": [
      "     SOURCE:The President desires peace, doesn't he?\n",
      "     TARGET:Ɔmampanyin no pɛ asomdwoe, ɛnte saa?\n",
      "  PREDICTED:Ɔmampanyin no pɛ asomdwoe, ɛnte saa?\n",
      "--------------------------------------------------------------------------------\n",
      "Training with Level 3 Data\n"
     ]
    },
    {
     "name": "stderr",
     "output_type": "stream",
     "text": [
      "Processing Epoch 49: 100%|██████████| 1588/1588 [06:52<00:00,  3.85it/s, loss=2.081]\n"
     ]
    },
    {
     "name": "stdout",
     "output_type": "stream",
     "text": [
      "     SOURCE:She wants to attend the party.\n",
      "     TARGET:Ɔpɛ sɛ ɔkɔ apontow no ase.\n",
      "  PREDICTED:Ɔpɛ sɛ ɔkɔ apontow no ase.\n",
      "--------------------------------------------------------------------------------\n",
      "Training with Level 3 Data\n"
     ]
    },
    {
     "name": "stderr",
     "output_type": "stream",
     "text": [
      "Processing Epoch 50: 100%|██████████| 1588/1588 [06:45<00:00,  3.92it/s, loss=1.848]\n"
     ]
    },
    {
     "name": "stdout",
     "output_type": "stream",
     "text": [
      "     SOURCE:I still have no idea what I'm going to say to Asamoah.\n",
      "     TARGET:Ɛde besi nnɛ, minnim nea mɛka akyerɛ Asamoa.\n",
      "  PREDICTED:Meda so ara te sɛ nea meka kyerɛ Asamoah.\n",
      "--------------------------------------------------------------------------------\n",
      "Training with Level 3 Data\n"
     ]
    },
    {
     "name": "stderr",
     "output_type": "stream",
     "text": [
      "Processing Epoch 51: 100%|██████████| 1588/1588 [06:47<00:00,  3.90it/s, loss=2.011]\n"
     ]
    },
    {
     "name": "stdout",
     "output_type": "stream",
     "text": [
      "     SOURCE:I would like some fish.\n",
      "     TARGET:Mepɛ mpataa kakra\n",
      "  PREDICTED:Mepɛ mpataa kakra\n",
      "--------------------------------------------------------------------------------\n",
      "Training with Level 3 Data\n"
     ]
    },
    {
     "name": "stderr",
     "output_type": "stream",
     "text": [
      "Processing Epoch 52: 100%|██████████| 1588/1588 [06:54<00:00,  3.83it/s, loss=1.089]\n"
     ]
    },
    {
     "name": "stdout",
     "output_type": "stream",
     "text": [
      "     SOURCE:He was having lunch when I entered the room.\n",
      "     TARGET:Bere a miduu dan no mu no, na ɔredidi awia.\n",
      "  PREDICTED:Bere a miduu fie no, na merekɔ dan no mu.\n",
      "--------------------------------------------------------------------------------\n",
      "Training with Level 3 Data\n"
     ]
    },
    {
     "name": "stderr",
     "output_type": "stream",
     "text": [
      "Processing Epoch 53: 100%|██████████| 1588/1588 [06:58<00:00,  3.79it/s, loss=0.998]\n"
     ]
    },
    {
     "name": "stdout",
     "output_type": "stream",
     "text": [
      "     SOURCE:Abena is my older sister.\n",
      "     TARGET:Abena yɛ me nuabea panyin.\n",
      "  PREDICTED:Abena yɛ me nuabea panyin.\n",
      "--------------------------------------------------------------------------------\n",
      "Training with Level 3 Data\n"
     ]
    },
    {
     "name": "stderr",
     "output_type": "stream",
     "text": [
      "Processing Epoch 54: 100%|██████████| 1588/1588 [06:51<00:00,  3.86it/s, loss=0.901]\n"
     ]
    },
    {
     "name": "stdout",
     "output_type": "stream",
     "text": [
      "     SOURCE:Even though there were many cookies on the dish, I only ate three.\n",
      "     TARGET:Ɛwom sɛ na kuukisi pii wɔ kyɛnsere no mu de, nanso midii abiesa pɛ.\n",
      "  PREDICTED:Ɛwom sɛ na obiara de nkra pii wɔ kyɛnsere no mu a na mehuruw no mu.\n",
      "--------------------------------------------------------------------------------\n",
      "Training with Level 3 Data\n"
     ]
    },
    {
     "name": "stderr",
     "output_type": "stream",
     "text": [
      "Processing Epoch 55: 100%|██████████| 1588/1588 [06:54<00:00,  3.83it/s, loss=1.217]\n"
     ]
    },
    {
     "name": "stdout",
     "output_type": "stream",
     "text": [
      "     SOURCE:Abena said that she loved me, but I didn't believe her.\n",
      "     TARGET:Abena kaa sɛ ɔdɔ me, nanso na minnye no nni.\n",
      "  PREDICTED:Abena kae sɛ m'ani nnye ne ho sɛ mɛka nanso minnye no ase.\n",
      "--------------------------------------------------------------------------------\n",
      "Training with Level 3 Data\n"
     ]
    },
    {
     "name": "stderr",
     "output_type": "stream",
     "text": [
      "Processing Epoch 56: 100%|██████████| 1588/1588 [06:49<00:00,  3.88it/s, loss=1.229]\n"
     ]
    },
    {
     "name": "stdout",
     "output_type": "stream",
     "text": [
      "     SOURCE:I hope we can make a difference.\n",
      "     TARGET:Migye di sɛ yebetumi  ama nsensanee aba.\n",
      "  PREDICTED:Migye di sɛ yebetumi ayɛ anigye.\n",
      "--------------------------------------------------------------------------------\n",
      "Training with Level 3 Data\n"
     ]
    },
    {
     "name": "stderr",
     "output_type": "stream",
     "text": [
      "Processing Epoch 57: 100%|██████████| 1588/1588 [06:59<00:00,  3.79it/s, loss=1.211]\n"
     ]
    },
    {
     "name": "stdout",
     "output_type": "stream",
     "text": [
      "     SOURCE:You're the only person I know who is my age.\n",
      "     TARGET:Wo nkutoo ne nipa a minim no sɛ m'atipɛnfo.\n",
      "  PREDICTED:Wo nkutoo ne nipa a minim no sɛ m'atipɛnfo.\n",
      "--------------------------------------------------------------------------------\n",
      "Training with Level 3 Data\n"
     ]
    },
    {
     "name": "stderr",
     "output_type": "stream",
     "text": [
      "Processing Epoch 58: 100%|██████████| 1588/1588 [06:51<00:00,  3.86it/s, loss=0.736]\n"
     ]
    },
    {
     "name": "stdout",
     "output_type": "stream",
     "text": [
      "     SOURCE:It wasn't Asamoah who lit the campfire.\n",
      "     TARGET:Ná ɛnyɛ te sɛ nea w'ani so atan no.\n",
      "  PREDICTED:Ná ɛyɛ den sɛ wubu adwene a wowɔ sɔhwɛ no.\n",
      "--------------------------------------------------------------------------------\n",
      "Training with Level 3 Data\n"
     ]
    },
    {
     "name": "stderr",
     "output_type": "stream",
     "text": [
      "Processing Epoch 59: 100%|██████████| 1588/1588 [06:52<00:00,  3.85it/s, loss=1.683]\n"
     ]
    },
    {
     "name": "stdout",
     "output_type": "stream",
     "text": [
      "     SOURCE:The United States borders Canada.\n",
      "     TARGET:United States hye Canada.\n",
      "  PREDICTED:United States tɔn wɔ Canada.\n",
      "--------------------------------------------------------------------------------\n",
      "Training with Level 3 Data\n"
     ]
    },
    {
     "name": "stderr",
     "output_type": "stream",
     "text": [
      "Processing Epoch 60: 100%|██████████| 1588/1588 [06:51<00:00,  3.86it/s, loss=1.449]\n"
     ]
    },
    {
     "name": "stdout",
     "output_type": "stream",
     "text": [
      "     SOURCE:Where did you get all that money from?\n",
      "     TARGET:Ɛhe na wunyaa sika yi nyinaa fii?\n",
      "  PREDICTED:Ɛhe na wunyaa sika yi nyinaa fii?\n",
      "--------------------------------------------------------------------------------\n",
      "Training with Level 3 Data\n"
     ]
    },
    {
     "name": "stderr",
     "output_type": "stream",
     "text": [
      "Processing Epoch 61: 100%|██████████| 1588/1588 [06:55<00:00,  3.82it/s, loss=1.099]\n"
     ]
    },
    {
     "name": "stdout",
     "output_type": "stream",
     "text": [
      "     SOURCE:He promised to come, but he didn't come.\n",
      "     TARGET:Ɔhyɛɛ bɔ sɛ ɔbɛba, nanso wamma.\n",
      "  PREDICTED:Ɔhyɛɛ bɔ sɛ ɔbɛba, nanso wamma.\n",
      "--------------------------------------------------------------------------------\n",
      "Training with Level 3 Data\n"
     ]
    },
    {
     "name": "stderr",
     "output_type": "stream",
     "text": [
      "Processing Epoch 62: 100%|██████████| 1588/1588 [06:55<00:00,  3.83it/s, loss=1.660]\n"
     ]
    },
    {
     "name": "stdout",
     "output_type": "stream",
     "text": [
      "     SOURCE:Asamoah slept on the bus.\n",
      "     TARGET:Asamoah da wɔ bɔs no mu no.\n",
      "  PREDICTED:Asamoah da wɔ bɔs no so.\n",
      "--------------------------------------------------------------------------------\n",
      "Training with Level 3 Data\n"
     ]
    },
    {
     "name": "stderr",
     "output_type": "stream",
     "text": [
      "Processing Epoch 63: 100%|██████████| 1588/1588 [06:51<00:00,  3.86it/s, loss=1.098]\n"
     ]
    },
    {
     "name": "stdout",
     "output_type": "stream",
     "text": [
      "     SOURCE:I'm sorry for breaking my promise.\n",
      "     TARGET:Ɛyɛ me yaw sɛ madi me bɔhyɛ so.\n",
      "  PREDICTED:Ɛyɛ me yaw sɛ madi me bɔhyɛ so.\n",
      "--------------------------------------------------------------------------------\n",
      "Training with Level 3 Data\n"
     ]
    },
    {
     "name": "stderr",
     "output_type": "stream",
     "text": [
      "Processing Epoch 64: 100%|██████████| 1588/1588 [06:50<00:00,  3.86it/s, loss=1.176]\n"
     ]
    },
    {
     "name": "stdout",
     "output_type": "stream",
     "text": [
      "     SOURCE:This is the dictionary I told you about yesterday.\n",
      "     TARGET:Eyi ne nsɛm asekyerɛ nhoma a meka kyerɛɛ wo bɛyɛ owigyinae.\n",
      "  PREDICTED:Eyi ne nsɛm asekyerɛ nhoma a meka kyerɛɛ wo no bɛyɛ owigyinae.\n",
      "--------------------------------------------------------------------------------\n",
      "Training with Level 3 Data\n"
     ]
    },
    {
     "name": "stderr",
     "output_type": "stream",
     "text": [
      "Processing Epoch 65: 100%|██████████| 1588/1588 [06:51<00:00,  3.86it/s, loss=1.646]\n"
     ]
    },
    {
     "name": "stdout",
     "output_type": "stream",
     "text": [
      "     SOURCE:I usually get up at eight.\n",
      "     TARGET:Metaa sɔre bɛyɛ baawɔtwe.\n",
      "  PREDICTED:Metaa sɔre ntɛm ara.\n",
      "--------------------------------------------------------------------------------\n",
      "Training with Level 3 Data\n"
     ]
    },
    {
     "name": "stderr",
     "output_type": "stream",
     "text": [
      "Processing Epoch 66: 100%|██████████| 1588/1588 [06:56<00:00,  3.81it/s, loss=0.926]\n"
     ]
    },
    {
     "name": "stdout",
     "output_type": "stream",
     "text": [
      "     SOURCE:The police observed the man enter the bank.\n",
      "     TARGET:Polisifo no hui sɛ ɔbarima no akɔ hyɛ sikakorabea hɔ.\n",
      "  PREDICTED:Polisifo no hui sɛ ɔbarima no kɔ sikakorabea hɔ ara.\n",
      "--------------------------------------------------------------------------------\n",
      "Training with Level 3 Data\n"
     ]
    },
    {
     "name": "stderr",
     "output_type": "stream",
     "text": [
      "Processing Epoch 67: 100%|██████████| 1588/1588 [06:51<00:00,  3.86it/s, loss=1.057]\n"
     ]
    },
    {
     "name": "stdout",
     "output_type": "stream",
     "text": [
      "     SOURCE:Asamoah was fired on Monday.\n",
      "     TARGET:Woyii Asamoah adi dwoda.\n",
      "  PREDICTED:Na Asamoa da hɔ Dwoda.\n",
      "--------------------------------------------------------------------------------\n",
      "Training with Level 3 Data\n"
     ]
    },
    {
     "name": "stderr",
     "output_type": "stream",
     "text": [
      "Processing Epoch 68: 100%|██████████| 1588/1588 [06:50<00:00,  3.87it/s, loss=1.130]\n"
     ]
    },
    {
     "name": "stdout",
     "output_type": "stream",
     "text": [
      "     SOURCE:I dislike living in such a noisy place.\n",
      "     TARGET:M'ani nnye ho sɛ mɛtra beae a ɛhɔ yɛ dede saa.\n",
      "  PREDICTED:M'ani nnye ho sɛ mɛtra nea nkurɔfo wɔ ɛno ho.\n",
      "--------------------------------------------------------------------------------\n",
      "Training with Level 3 Data\n"
     ]
    },
    {
     "name": "stderr",
     "output_type": "stream",
     "text": [
      "Processing Epoch 69: 100%|██████████| 1588/1588 [06:54<00:00,  3.83it/s, loss=1.291]\n"
     ]
    },
    {
     "name": "stdout",
     "output_type": "stream",
     "text": [
      "     SOURCE:The child threw a stone at the dog.\n",
      "     TARGET:Abofra no tow ɔbo bɔɔ ɔkraman no.\n",
      "  PREDICTED:Abofra no tow ɔbo bɔɔ ɔkraman no.\n",
      "--------------------------------------------------------------------------------\n",
      "Training with Level 3 Data\n"
     ]
    },
    {
     "name": "stderr",
     "output_type": "stream",
     "text": [
      "Processing Epoch 70: 100%|██████████| 1588/1588 [06:48<00:00,  3.89it/s, loss=0.566]\n"
     ]
    },
    {
     "name": "stdout",
     "output_type": "stream",
     "text": [
      "     SOURCE:It's completely visible.\n",
      "     TARGET:Wɔahu no yiye.\n",
      "  PREDICTED:Wɔahu no yiye.\n",
      "--------------------------------------------------------------------------------\n",
      "Training with Level 3 Data\n"
     ]
    },
    {
     "name": "stderr",
     "output_type": "stream",
     "text": [
      "Processing Epoch 71: 100%|██████████| 1588/1588 [07:02<00:00,  3.76it/s, loss=0.903]\n"
     ]
    },
    {
     "name": "stdout",
     "output_type": "stream",
     "text": [
      "     SOURCE:It's an inside joke.\n",
      "     TARGET:Ɛyɛ aseresɛm bi a ɛwɔ yɛn mu.\n",
      "  PREDICTED:Ɛyɛ aseresɛm bi a ɛyɛ hu.\n",
      "--------------------------------------------------------------------------------\n",
      "Training with Level 3 Data\n"
     ]
    },
    {
     "name": "stderr",
     "output_type": "stream",
     "text": [
      "Processing Epoch 72: 100%|██████████| 1588/1588 [06:52<00:00,  3.85it/s, loss=0.706]\n"
     ]
    },
    {
     "name": "stdout",
     "output_type": "stream",
     "text": [
      "     SOURCE:Scotland is famous for its woollen textiles.\n",
      "     TARGET:Scotland agye din wɔ n'atade a wɔde nhwi ayɛ no mu.\n",
      "  PREDICTED:Scotland agye din wɔ n'atade a wɔde nhwi ayɛ no mu.\n",
      "--------------------------------------------------------------------------------\n",
      "Training with Level 3 Data\n"
     ]
    },
    {
     "name": "stderr",
     "output_type": "stream",
     "text": [
      "Processing Epoch 73: 100%|██████████| 1588/1588 [06:50<00:00,  3.86it/s, loss=0.760]\n"
     ]
    },
    {
     "name": "stdout",
     "output_type": "stream",
     "text": [
      "     SOURCE:Write your goals down on a sheet of paper.\n",
      "     TARGET:Kyerɛw wo botae ahorow gu krataa so.\n",
      "  PREDICTED:Kyerɛw wo botae ahorow bɔ nkɔmmɔ kakra.\n",
      "--------------------------------------------------------------------------------\n",
      "Training with Level 3 Data\n"
     ]
    },
    {
     "name": "stderr",
     "output_type": "stream",
     "text": [
      "Processing Epoch 74: 100%|██████████| 1588/1588 [06:48<00:00,  3.88it/s, loss=0.719]\n"
     ]
    },
    {
     "name": "stdout",
     "output_type": "stream",
     "text": [
      "     SOURCE:My mother gets up the earliest every morning.\n",
      "     TARGET:Anɔpa biara na me maame sɔre ntɛm.\n",
      "  PREDICTED:Anɔpa biara na me maame sɔre ntɛm.\n",
      "--------------------------------------------------------------------------------\n",
      "Training with Level 3 Data\n"
     ]
    },
    {
     "name": "stderr",
     "output_type": "stream",
     "text": [
      "Processing Epoch 75: 100%|██████████| 1588/1588 [06:57<00:00,  3.80it/s, loss=1.461]\n"
     ]
    },
    {
     "name": "stdout",
     "output_type": "stream",
     "text": [
      "     SOURCE:Kwabena will eventually need an operation.\n",
      "     TARGET:Awiei koraa no, Kwabena behia oprehyɛn.\n",
      "  PREDICTED:Awiei koraa no, Kwabena behia oprehyɛn.\n",
      "--------------------------------------------------------------------------------\n",
      "Training with Level 3 Data\n"
     ]
    },
    {
     "name": "stderr",
     "output_type": "stream",
     "text": [
      "Processing Epoch 76: 100%|██████████| 1588/1588 [06:49<00:00,  3.88it/s, loss=0.765]\n"
     ]
    },
    {
     "name": "stdout",
     "output_type": "stream",
     "text": [
      "     SOURCE:Kwabena asked Abena about her family.\n",
      "     TARGET:Kwabena bisaa Abena abusua ho asɛm.\n",
      "  PREDICTED:Kwabena bisaa Abena abusua ho asɛm.\n",
      "--------------------------------------------------------------------------------\n",
      "Training with Level 3 Data\n"
     ]
    },
    {
     "name": "stderr",
     "output_type": "stream",
     "text": [
      "Processing Epoch 77: 100%|██████████| 1588/1588 [06:50<00:00,  3.86it/s, loss=1.153]\n"
     ]
    },
    {
     "name": "stdout",
     "output_type": "stream",
     "text": [
      "     SOURCE:Maybe we should return to Boston.\n",
      "     TARGET:Ebia ɛsɛ sɛ yɛsan kɔ Boston.\n",
      "  PREDICTED:Ebia ɛsɛ sɛ yɛsan kɔ Boston.\n",
      "--------------------------------------------------------------------------------\n",
      "Training with Level 3 Data\n"
     ]
    },
    {
     "name": "stderr",
     "output_type": "stream",
     "text": [
      "Processing Epoch 78: 100%|██████████| 1588/1588 [06:53<00:00,  3.84it/s, loss=1.027]\n"
     ]
    },
    {
     "name": "stdout",
     "output_type": "stream",
     "text": [
      "     SOURCE:Kwabena and Abena wanted to talk about old times.\n",
      "     TARGET:Kwabena ne Abena pɛe sɛ wɔka mmere dedaw no ho asɛm.\n",
      "  PREDICTED:Kwabena ne Abena pɛe sɛ wɔka mmere dedaw no ho asɛm.\n",
      "--------------------------------------------------------------------------------\n",
      "Training with Level 3 Data\n"
     ]
    },
    {
     "name": "stderr",
     "output_type": "stream",
     "text": [
      "Processing Epoch 79: 100%|██████████| 1588/1588 [06:57<00:00,  3.80it/s, loss=0.557]\n"
     ]
    },
    {
     "name": "stdout",
     "output_type": "stream",
     "text": [
      "     SOURCE:I have a secret dream.\n",
      "     TARGET:Mewɔ anidaso bi a emu yɛ den.\n",
      "  PREDICTED:Mewɔ anidaso bi a emu yɛ den.\n",
      "--------------------------------------------------------------------------------\n",
      "Training with Level 3 Data\n"
     ]
    },
    {
     "name": "stderr",
     "output_type": "stream",
     "text": [
      "Processing Epoch 80: 100%|██████████| 1588/1588 [06:49<00:00,  3.88it/s, loss=0.461]\n"
     ]
    },
    {
     "name": "stdout",
     "output_type": "stream",
     "text": [
      "     SOURCE:I'm very confused.\n",
      "     TARGET:M'adwene atu afra paa.\n",
      "  PREDICTED:M'adwene atu afra paa.\n",
      "--------------------------------------------------------------------------------\n",
      "Training with Level 3 Data\n"
     ]
    },
    {
     "name": "stderr",
     "output_type": "stream",
     "text": [
      "Processing Epoch 81: 100%|██████████| 1588/1588 [06:53<00:00,  3.84it/s, loss=1.371]\n"
     ]
    },
    {
     "name": "stdout",
     "output_type": "stream",
     "text": [
      "     SOURCE:Hi, my name is Pekka. What is your name?\n",
      "     TARGET:Me din de Pekka, wo din de sɛn?\n",
      "  PREDICTED:Me din de Pekka, wo din de sɛn?\n",
      "--------------------------------------------------------------------------------\n",
      "Training with Level 3 Data\n"
     ]
    },
    {
     "name": "stderr",
     "output_type": "stream",
     "text": [
      "Processing Epoch 82: 100%|██████████| 1588/1588 [06:48<00:00,  3.88it/s, loss=0.212]\n"
     ]
    },
    {
     "name": "stdout",
     "output_type": "stream",
     "text": [
      "     SOURCE:I have no idea how it works.\n",
      "     TARGET:Minnim sɛnea ɛyɛ adwuma fa.\n",
      "  PREDICTED:Minnim sɛnea ɛyɛ adwuma fa.\n",
      "--------------------------------------------------------------------------------\n",
      "Training with Level 3 Data\n"
     ]
    },
    {
     "name": "stderr",
     "output_type": "stream",
     "text": [
      "Processing Epoch 83: 100%|██████████| 1588/1588 [06:51<00:00,  3.86it/s, loss=0.538]\n"
     ]
    },
    {
     "name": "stdout",
     "output_type": "stream",
     "text": [
      "     SOURCE:He has a drug allergy.\n",
      "     TARGET:Ɔwɔ aduru bi a etumi sa yare.\n",
      "  PREDICTED:Ɔwɔ aduru bi a egyina so.\n",
      "--------------------------------------------------------------------------------\n",
      "Training with Level 3 Data\n"
     ]
    },
    {
     "name": "stderr",
     "output_type": "stream",
     "text": [
      "Processing Epoch 84: 100%|██████████| 1588/1588 [06:57<00:00,  3.80it/s, loss=0.876]\n"
     ]
    },
    {
     "name": "stdout",
     "output_type": "stream",
     "text": [
      "     SOURCE:I hope you'll get well soon.\n",
      "     TARGET:Migye di sɛ ɛrenkyɛ wo ho bɛtɔ wo.\n",
      "  PREDICTED:Migye di sɛ ɛrenkyɛ wo ho bɛtɔ wo.\n",
      "--------------------------------------------------------------------------------\n",
      "Training with Level 3 Data\n"
     ]
    },
    {
     "name": "stderr",
     "output_type": "stream",
     "text": [
      "Processing Epoch 85: 100%|██████████| 1588/1588 [06:52<00:00,  3.85it/s, loss=0.379]\n"
     ]
    },
    {
     "name": "stdout",
     "output_type": "stream",
     "text": [
      "     SOURCE:I can fix it.\n",
      "     TARGET:Metumi asiesie.\n",
      "  PREDICTED:Metumi asiesie.\n",
      "--------------------------------------------------------------------------------\n",
      "Training with Level 3 Data\n"
     ]
    },
    {
     "name": "stderr",
     "output_type": "stream",
     "text": [
      "Processing Epoch 86: 100%|██████████| 1588/1588 [06:48<00:00,  3.89it/s, loss=0.474]\n"
     ]
    },
    {
     "name": "stdout",
     "output_type": "stream",
     "text": [
      "     SOURCE:The noise distracted him from studying.\n",
      "     TARGET:Ná dede no mma ontumi nsua ade.\n",
      "  PREDICTED:Ná dede no mma ontumi nsua ade.\n",
      "--------------------------------------------------------------------------------\n",
      "Training with Level 3 Data\n"
     ]
    },
    {
     "name": "stderr",
     "output_type": "stream",
     "text": [
      "Processing Epoch 87: 100%|██████████| 1588/1588 [06:56<00:00,  3.82it/s, loss=0.518]\n"
     ]
    },
    {
     "name": "stdout",
     "output_type": "stream",
     "text": [
      "     SOURCE:I lost my sunglasses.\n",
      "     TARGET:Mehweree me ahwehwɛniwa.\n",
      "  PREDICTED:Mehweree me ahwehwɛniwa.\n",
      "--------------------------------------------------------------------------------\n",
      "Training with Level 3 Data\n"
     ]
    },
    {
     "name": "stderr",
     "output_type": "stream",
     "text": [
      "Processing Epoch 88: 100%|██████████| 1588/1588 [06:55<00:00,  3.82it/s, loss=0.527]\n"
     ]
    },
    {
     "name": "stdout",
     "output_type": "stream",
     "text": [
      "     SOURCE:Asamoah admitted that he murdered Esi.\n",
      "     TARGET:Asamoah gye toom sɛ okum Esi.\n",
      "  PREDICTED:Asamoah gye toom sɛ okum Esi.\n",
      "--------------------------------------------------------------------------------\n",
      "Training with Level 3 Data\n"
     ]
    },
    {
     "name": "stderr",
     "output_type": "stream",
     "text": [
      "Processing Epoch 89: 100%|██████████| 1588/1588 [06:51<00:00,  3.86it/s, loss=0.650]\n"
     ]
    },
    {
     "name": "stdout",
     "output_type": "stream",
     "text": [
      "     SOURCE:Asamoah doesn't want to spend the rest of his life in jail.\n",
      "     TARGET:Asamoah mpɛ sɛ ɔda afiase ne nkwa nna nyinaa.\n",
      "  PREDICTED:Asamoah mpɛ sɛ ɔda afiase ne nkwa nna nyinaa.\n",
      "--------------------------------------------------------------------------------\n",
      "Training with Level 3 Data\n"
     ]
    },
    {
     "name": "stderr",
     "output_type": "stream",
     "text": [
      "Processing Epoch 90: 100%|██████████| 1588/1588 [06:52<00:00,  3.85it/s, loss=0.904]\n"
     ]
    },
    {
     "name": "stdout",
     "output_type": "stream",
     "text": [
      "     SOURCE:I am very much obliged to you for your help.\n",
      "     TARGET:Mede wo ka pa ara wɔ wo mmoa a wode maa me no ho\n",
      "  PREDICTED:Ɛyɛ me asɛyɛde yiye sɛ wuyi me mmoa denneennen.\n",
      "--------------------------------------------------------------------------------\n",
      "Training with Level 3 Data\n"
     ]
    },
    {
     "name": "stderr",
     "output_type": "stream",
     "text": [
      "Processing Epoch 91: 100%|██████████| 1588/1588 [07:02<00:00,  3.76it/s, loss=0.796]\n"
     ]
    },
    {
     "name": "stdout",
     "output_type": "stream",
     "text": [
      "     SOURCE:I'm pretty sure Kwabena won't do anything crazy.\n",
      "     TARGET:Migye di paa sɛ Kwabena renyɛ biribiara a ɛbɔ dam.\n",
      "  PREDICTED:Migye di sɛ Kwabena renyɛ biribiara a ɛsɛ sɛ ɔbɛka akyerɛ atoro biara.\n",
      "--------------------------------------------------------------------------------\n",
      "Training with Level 3 Data\n"
     ]
    },
    {
     "name": "stderr",
     "output_type": "stream",
     "text": [
      "Processing Epoch 92: 100%|██████████| 1588/1588 [06:51<00:00,  3.86it/s, loss=1.054]\n"
     ]
    },
    {
     "name": "stdout",
     "output_type": "stream",
     "text": [
      "     SOURCE:I can't believe that she is older than my mother.\n",
      "     TARGET:Mannye anni sɛ wanyin sen me maame.\n",
      "  PREDICTED:Mannye anni sɛ wanyin sen me maame.\n",
      "--------------------------------------------------------------------------------\n",
      "Training with Level 3 Data\n"
     ]
    },
    {
     "name": "stderr",
     "output_type": "stream",
     "text": [
      "Processing Epoch 93: 100%|██████████| 1588/1588 [06:38<00:00,  3.99it/s, loss=0.669]\n"
     ]
    },
    {
     "name": "stdout",
     "output_type": "stream",
     "text": [
      "     SOURCE:What has he done today?\n",
      "     TARGET:Dɛn na wayɛ nnɛ?\n",
      "  PREDICTED:Dɛn na wayɛ nnɛ?\n",
      "--------------------------------------------------------------------------------\n",
      "Training with Level 3 Data\n"
     ]
    },
    {
     "name": "stderr",
     "output_type": "stream",
     "text": [
      "Processing Epoch 94: 100%|██████████| 1588/1588 [06:37<00:00,  4.00it/s, loss=0.797]\n"
     ]
    },
    {
     "name": "stdout",
     "output_type": "stream",
     "text": [
      "     SOURCE:The bread's on the table.\n",
      "     TARGET:paanoo no si ɔpon no so.\n",
      "  PREDICTED:Adwuma no si ɔpon no so.\n",
      "--------------------------------------------------------------------------------\n",
      "Training with Level 3 Data\n"
     ]
    },
    {
     "name": "stderr",
     "output_type": "stream",
     "text": [
      "Processing Epoch 95: 100%|██████████| 1588/1588 [06:36<00:00,  4.00it/s, loss=0.559]\n"
     ]
    },
    {
     "name": "stdout",
     "output_type": "stream",
     "text": [
      "     SOURCE:All I want now is a little sleep.\n",
      "     TARGET:Nea mepɛ seesei ara ara ne nna kakra.\n",
      "  PREDICTED:Nea mepɛ seesei ara ne nna kakra.\n",
      "--------------------------------------------------------------------------------\n",
      "Training with Level 3 Data\n"
     ]
    },
    {
     "name": "stderr",
     "output_type": "stream",
     "text": [
      "Processing Epoch 96: 100%|██████████| 1588/1588 [06:35<00:00,  4.02it/s, loss=0.834]\n"
     ]
    },
    {
     "name": "stdout",
     "output_type": "stream",
     "text": [
      "     SOURCE:Asamoah'll go.\n",
      "     TARGET:Bere a Yalah rekɔ no.\n",
      "  PREDICTED:Bere a Yalah rekɔ no.\n",
      "--------------------------------------------------------------------------------\n",
      "Training with Level 3 Data\n"
     ]
    },
    {
     "name": "stderr",
     "output_type": "stream",
     "text": [
      "Processing Epoch 97: 100%|██████████| 1588/1588 [06:41<00:00,  3.96it/s, loss=0.404]\n"
     ]
    },
    {
     "name": "stdout",
     "output_type": "stream",
     "text": [
      "     SOURCE:The transition won't be easy.\n",
      "     TARGET:Nsakrae no renyɛ mmerɛw.\n",
      "  PREDICTED:Nsakrae no renyɛ mmerɛw.\n",
      "--------------------------------------------------------------------------------\n",
      "Training with Level 3 Data\n"
     ]
    },
    {
     "name": "stderr",
     "output_type": "stream",
     "text": [
      "Processing Epoch 98: 100%|██████████| 1588/1588 [06:35<00:00,  4.01it/s, loss=0.175]\n"
     ]
    },
    {
     "name": "stdout",
     "output_type": "stream",
     "text": [
      "     SOURCE:It's dangerous to play with fire.\n",
      "     TARGET:Asiane wom sɛ wode ogya bedi agoru.\n",
      "  PREDICTED:Ɛyɛ hu sɛ wode ogya bedi agoru.\n",
      "--------------------------------------------------------------------------------\n",
      "Training with Level 3 Data\n"
     ]
    },
    {
     "name": "stderr",
     "output_type": "stream",
     "text": [
      "Processing Epoch 99: 100%|██████████| 1588/1588 [06:46<00:00,  3.90it/s, loss=0.976]\n"
     ]
    },
    {
     "name": "stdout",
     "output_type": "stream",
     "text": [
      "     SOURCE:She was advised by him to be more careful.\n",
      "     TARGET:Otuu no fo sɛ ɔnhwɛ yiye paa.\n",
      "  PREDICTED:Otuu no fo sɛ ɔrekɔ hɔ paa.\n",
      "--------------------------------------------------------------------------------\n",
      "Training with Level 3 Data\n"
     ]
    },
    {
     "name": "stderr",
     "output_type": "stream",
     "text": [
      "Processing Epoch 100: 100%|██████████| 1588/1588 [06:35<00:00,  4.01it/s, loss=0.651]\n"
     ]
    },
    {
     "name": "stdout",
     "output_type": "stream",
     "text": [
      "     SOURCE:I felt very lonely.\n",
      "     TARGET:Na mayɛ ankonam pa ara.\n",
      "  PREDICTED:Meyɛɛ basaa.\n",
      "--------------------------------------------------------------------------------\n"
     ]
    }
   ],
   "source": [
    "epochs = 100\n",
    "lr = 10**-4\n",
    "\n",
    "def causal_mask(size):\n",
    "    mask = torch.triu(torch.ones((1, size, size)), diagonal=1).type(torch.int)\n",
    "    return mask == 0\n",
    "\n",
    "def greedy_decode(model, source, source_mask, tokenizer_src, tokenizer_tgt, max_len, device):\n",
    "    sos_idx, eos_idx = 2, 3\n",
    "    encoder_output = model.encoder(source.to(device), source_mask.to(device))\n",
    "    decoder_input = torch.empty(1, 1).fill_(sos_idx).type_as(source).to(device)\n",
    "\n",
    "    while decoder_input.size(1) < max_len:\n",
    "        decoder_mask = causal_mask(decoder_input.size(1)).type_as(source_mask).to(device)\n",
    "        out = model.decoder(decoder_input, encoder_output, source_mask, decoder_mask)\n",
    "        next_word = torch.max(out[:, -1], dim=1)[1]\n",
    "        if next_word == eos_idx: break\n",
    "        decoder_input = torch.cat([decoder_input, next_word.view(1, 1).to(device)], dim=1)\n",
    "\n",
    "    return decoder_input.squeeze(0)[1:]\n",
    "\n",
    "\n",
    "def run_validation(model, validation_ds, tokenizer_src, tokenizer_tgt, max_len, device, print_msg, num_examples=1):\n",
    "    model.to(device)\n",
    "    model.eval()\n",
    "    source_texts, expected, predicted = [], [], []\n",
    "    try:\n",
    "      console_width = os.get_terminal_size().columns\n",
    "    except OSError:\n",
    "      console_width = 80\n",
    "\n",
    "    with torch.no_grad():\n",
    "        for count, batch in enumerate(validation_ds, start=1):\n",
    "            encoder_input, encoder_mask = batch[\"english_token\"].to(device), batch[\"encoder_mask\"].to(device)\n",
    "            assert encoder_input.size(0) == 1, \"Batch size must be 1 for validation\"\n",
    "            model_out = greedy_decode(model, encoder_input, encoder_mask, tokenizer_src, tokenizer_tgt, max_len, device)\n",
    "\n",
    "            source_text = batch[\"english\"][0]\n",
    "            target_text = batch[\"akan\"][0]\n",
    "            model_out_text = tokenizer_tgt.decode(model_out.detach().cpu().numpy())\n",
    "\n",
    "            source_texts.append(source_text)\n",
    "            expected.append(target_text)\n",
    "            predicted.append(model_out_text)\n",
    "\n",
    "            print_msg(f\"{'SOURCE:':>12}{source_text}\\n{'TARGET:':>12}{target_text}\\n{'PREDICTED:':>12}{model_out_text}\\n{'-'*console_width}\")\n",
    "            if count == num_examples: break\n",
    "\n",
    "def train_model():\n",
    "\n",
    "    device = \"cuda\" if torch.cuda.is_available() else \"mps\" if torch.has_mps or torch.backends.mps.is_available() else \"cpu\"\n",
    "    print(\"Using device:\", device)\n",
    "    checkpoint_path = \"model_path/\"\n",
    "   \n",
    "    if os.path.exists(checkpoint_path):\n",
    "        model.load_state_dict(torch.load(checkpoint_path, map_location=torch.device(device)))\n",
    "        print(\"Model loaded from checkpoint.\")\n",
    "    else :\n",
    "        print(\"Checkpoint not found. Training from scratch.\")\n",
    "    if device == 'cuda':\n",
    "        print(f\"Device name: {torch.cuda.get_device_name(device.index)}\")\n",
    "        print(f\"Device memory: {torch.cuda.get_device_properties(device.index).total_memory / 1024 ** 3} GB\")\n",
    "        \n",
    "    \n",
    "    optimizer = torch.optim.Adam(model.parameters(), lr = lr, eps=1e-9)\n",
    "    loss_fn = nn.CrossEntropyLoss(ignore_index= 1).to(device)\n",
    "\n",
    "    for epoch in range(epochs):\n",
    "        torch.cuda.empty_cache()\n",
    "        model.train()\n",
    "        if epoch <= 10:\n",
    "            print(\"Training with Level 1 Data\")\n",
    "            train_dataloader = train_dataloader_1\n",
    "            test_dataloader = test_dataloader_1\n",
    "        elif epoch > 10 and epoch <= 20:\n",
    "            print(\"Training with Level 2 Data\")\n",
    "            train_dataloader = train_dataloader_2\n",
    "            test_dataloader = test_dataloader_2\n",
    "        elif epoch > 20: \n",
    "            print(\"Training with Level 3 Data\")\n",
    "            train_dataloader = train_dataloader_3\n",
    "            test_dataloader = test_dataloader_3\n",
    "        else:\n",
    "            print(\"cant get the data\")\n",
    "\n",
    "        batch_iterator = tqdm(train_dataloader, desc=f\"Processing Epoch {epoch+1:02d}\")\n",
    "        for batch in batch_iterator:\n",
    "            encoder_input = batch['english_token'].to(device)\n",
    "            decoder_input = batch['akan_token'].to(device)\n",
    "            encoder_mask = batch['encoder_mask'].to(device)\n",
    "            decoder_mask = batch['decoder_mask'].to(device)\n",
    "\n",
    "            output = model(encoder_input, decoder_input, encoder_mask, decoder_mask)\n",
    "\n",
    "            label = batch['akan_target'].to(device)\n",
    "            # Flattening the output\n",
    "            output_flat = output.view(-1, output.size(-1)) \n",
    "            # Flattening the label \n",
    "            label_flat = label.view(-1)  \n",
    "\n",
    "            # Computing the loss \n",
    "            loss = loss_fn(output_flat, label_flat)\n",
    "            batch_iterator.set_postfix({\"loss\": f\"{loss.item():6.3f}\"})\n",
    "            loss.backward()\n",
    "            optimizer.step()\n",
    "            optimizer.zero_grad()\n",
    "        torch.save(model.state_dict(), \"Model_Params.pth\")\n",
    "        run_validation(model, test_dataloader, english_tokenizer, akan_tokenizer, 24, device, lambda msg: batch_iterator.write(msg))\n",
    "\n",
    "\n",
    "warnings.filterwarnings(\"ignore\")\n",
    "train_model()"
   ]
  },
  {
   "cell_type": "code",
   "execution_count": null,
   "metadata": {
    "trusted": true
   },
   "outputs": [],
   "source": []
  },
  {
   "cell_type": "markdown",
   "metadata": {},
   "source": [
    "FOR INFERENCE"
   ]
  },
  {
   "cell_type": "code",
   "execution_count": null,
   "metadata": {
    "execution": {
     "execution_failed": "2025-04-03T18:33:27.245Z"
    },
    "trusted": true
   },
   "outputs": [
    {
     "name": "stdout",
     "output_type": "stream",
     "text": [
      "SOURCE    : Kwaku got out of the hospital.\n",
      "PREDICTED : Kwaku fii ayaresabea hɔ kɔe.\n"
     ]
    }
   ],
   "source": [
    "def causal_mask(size, device):\n",
    "    mask = torch.triu(torch.ones((1, size, size), device=device), diagonal=1).int()\n",
    "    return mask == 0\n",
    "\n",
    "#greedy decoding for inference\n",
    "def greedy_decode1(model, source, source_mask, max_len, device):\n",
    "    sos_idx, eos_idx = 2, 3\n",
    "    encoder_output = model.encoder(source, source_mask)\n",
    "    decoder_input = torch.empty(1, 1, device=device).fill_(sos_idx).long()\n",
    "\n",
    "    while decoder_input.size(1) < max_len:\n",
    "        decoder_mask = causal_mask(decoder_input.size(1), device)\n",
    "        out = model.decoder(decoder_input, encoder_output, source_mask, decoder_mask)\n",
    "        next_word = torch.max(out[:, -1], dim=1)[1]\n",
    "        if next_word.item() == eos_idx:\n",
    "            break\n",
    "        decoder_input = torch.cat([decoder_input, next_word.view(1, 1)], dim=1)\n",
    "\n",
    "    return decoder_input.squeeze(0)[1:]\n",
    "\n",
    "def run_validation1(model, encoder_input, encoder_mask, max_len, device):\n",
    "    model.to(device)\n",
    "    model.eval()\n",
    "    predicted = []\n",
    "    \n",
    "    try:\n",
    "        console_width = os.get_terminal_size().columns\n",
    "    except OSError:\n",
    "        console_width = 80\n",
    "\n",
    "    with torch.no_grad():\n",
    "        \n",
    "        encoder_input = encoder_input.to(device)\n",
    "        encoder_mask = encoder_mask.to(device)\n",
    "        \n",
    "        assert encoder_input.size(0) == 1, \"Batch size must be 1 for validation\"\n",
    "        model_out = greedy_decode1(model, encoder_input, encoder_mask, max_len, device)\n",
    "    \n",
    "        model_out_text = akan_tokenizer.decode(model_out.detach().cpu().numpy())\n",
    "        predicted.append(model_out_text)\n",
    "\n",
    "        print(f\"{'PREDICTED : '}{model_out_text}\")\n",
    "\n",
    "sentence1 = \"Kwaku got out of the hospital.\"\n",
    "sentence = english_tokenizer.encode(sentence1)\n",
    "sentence = pad_sequence_source(sentence, 20, cls_token=2, sep_token=3)\n",
    "sentence = torch.tensor(sentence, dtype=torch.long).to(device)  \n",
    "encoder_input = sentence.unsqueeze(0).to(device)  \n",
    "encoder_mask = (sentence != 1).unsqueeze(0).unsqueeze(0).int().to(device) \n",
    "\n",
    "device = torch.device('cuda' if torch.cuda.is_available() else 'cpu')\n",
    "print(\"SOURCE    :\",sentence1)\n",
    "run_validation1(model, encoder_input, encoder_mask, 24, device)"
   ]
  },
  {
   "cell_type": "markdown",
   "metadata": {
    "trusted": true
   },
   "source": [
    "TAKING MODEL PARAMETERS FROM MEMORY TO A STANDALONE MODEL, READY FOR DEPLOYMENT"
   ]
  },
  {
   "cell_type": "code",
   "execution_count": null,
   "metadata": {
    "execution": {
     "execution_failed": "2025-04-03T18:33:27.246Z"
    },
    "trusted": true
   },
   "outputs": [
    {
     "name": "stdout",
     "output_type": "stream",
     "text": [
      "Model saved to translation_model/translation_model.pth\n",
      "Tokenizers saved to translation_model/\n",
      "Configuration saved to translation_model/model_config.pkl\n",
      "English: You are a good child\n",
      "Akan: Woyɛ abofra pa ara kwa.\n"
     ]
    }
   ],
   "source": [
    "# SAVING THE MODEL AND TOKENIZERS\n",
    "\n",
    "import torch\n",
    "import dill\n",
    "import os\n",
    "\n",
    "# 1. Save the model\n",
    "def save_model(model, save_dir):\n",
    "    os.makedirs(save_dir, exist_ok=True)\n",
    "    model_path = os.path.join(save_dir, \"translation_model.pth\")\n",
    "\n",
    "    model_cpu = {k: v.cpu() for k, v in model.state_dict().items()}\n",
    "    torch.save(model_cpu, model_path)\n",
    "    print(f\"Model saved to {model_path}\")\n",
    "\n",
    "# 2. Save the tokenizers\n",
    "def save_tokenizers(akan_tokenizer, english_tokenizer, save_dir):\n",
    "    os.makedirs(save_dir, exist_ok=True)\n",
    "   \n",
    "    # Save akan tokenizer\n",
    "    akan_path = os.path.join(save_dir, \"akan_tokenizer.pkl\")\n",
    "    with open(akan_path, 'wb') as f:\n",
    "        ##saving with dill instead of pickle\n",
    "        dill.dump(akan_tokenizer, f)\n",
    "   \n",
    "    # Saving english tokenizer\n",
    "    english_path = os.path.join(save_dir, \"english_tokenizer.pkl\")\n",
    "    with open(english_path, 'wb') as f:\n",
    "        ##saving with dill instead of pickle\n",
    "        dill.dump(english_tokenizer, f)\n",
    "   \n",
    "    print(f\"Tokenizers saved to {save_dir}\")\n",
    "\n",
    "# Saving model configuration\n",
    "def save_config(config, save_dir):\n",
    "    \"\"\"Save model configuration to disk.\"\"\"\n",
    "    os.makedirs(save_dir, exist_ok=True)\n",
    "    config_path = os.path.join(save_dir, \"model_config.pkl\")\n",
    "   \n",
    "    with open(config_path, 'wb') as f:\n",
    "        # pickle.dump(config, f)\n",
    "        dill.dump(config, f)\n",
    "   \n",
    "    print(f\"Configuration saved to {config_path}\")\n",
    "\n",
    "save_dir = \"model_path/\"\n",
    "\n",
    "# Save model\n",
    "save_model(model, save_dir)\n",
    "\n",
    "# Save tokenizers\n",
    "save_tokenizers(akan_tokenizer, english_tokenizer, save_dir)\n",
    "\n",
    "# Save configuration\n",
    "config = {\n",
    "    \"src_vocab_size\": src_vocab_size,\n",
    "    \"tgt_vocab_size\": tgt_vocab_size,\n",
    "    \"d_model\": d_model,\n",
    "    \"n_heads\": n_heads,\n",
    "    \"d_ff\": d_ff,\n",
    "    \"n_enc_layers\": n_enc_layers,\n",
    "    \"n_dec_layers\": n_dec_layers,\n",
    "    \"dropout\": dropout,\n",
    "    \"max_pad\": max_pad,\n",
    "    \"special_tokens\": special_tokens\n",
    "}\n",
    "save_config(config, save_dir)\n",
    "\n",
    "\n",
    "# LOADING THE MODEL AND TOKENIZERS \n",
    "# ==================================================\n",
    "\n",
    "import torch\n",
    "import dill\n",
    "import os\n",
    "import math\n",
    "import torch.nn as nn\n",
    "\n",
    "# 1. Defining all the model components\n",
    "class PositionalEncoding(nn.Module):\n",
    "    def __init__(self, d_model, max_len=5000):\n",
    "        super(PositionalEncoding, self).__init__()\n",
    "        pe = torch.zeros(max_len, d_model)\n",
    "        position = torch.arange(0, max_len).unsqueeze(1)\n",
    "        div_term = torch.exp(torch.arange(0, d_model, 2) * -(math.log(10000.0) / d_model))\n",
    "        pe[:, 0::2] = torch.sin(position * div_term)\n",
    "        pe[:, 1::2] = torch.cos(position * div_term)\n",
    "        pe = pe.unsqueeze(0)\n",
    "        self.register_buffer('pe', pe)\n",
    "\n",
    "    def forward(self, x):\n",
    "        return x + self.pe[:, :x.size(1)]\n",
    "\n",
    "class MultiHeadSelfAttention(nn.Module):\n",
    "    def __init__(self, d_model: int, h: int, dropout: float) -> None:\n",
    "        super().__init__()\n",
    "        self.d_model = d_model\n",
    "        self.h = h\n",
    "        assert d_model % h == 0, \"d_model is not divisible by h\"\n",
    "\n",
    "        self.d_k = d_model // h\n",
    "        self.w_q = nn.Linear(d_model, d_model, bias=False)\n",
    "        self.w_k = nn.Linear(d_model, d_model, bias=False)\n",
    "        self.w_v = nn.Linear(d_model, d_model, bias=False)\n",
    "        self.w_o = nn.Linear(d_model, d_model, bias=False)\n",
    "        self.dropout = nn.Dropout(dropout)\n",
    "\n",
    "    @staticmethod\n",
    "    def attention(query, key, value, mask, dropout: nn.Dropout):\n",
    "        d_k = query.shape[-1]\n",
    "        attention_scores = (query @ key.transpose(-2, -1)) / math.sqrt(d_k)\n",
    "        if mask is not None:\n",
    "            attention_scores.masked_fill_(mask == 0, -1e9)\n",
    "        attention_scores = attention_scores.softmax(dim=-1)\n",
    "        if dropout is not None:\n",
    "            attention_scores = dropout(attention_scores)\n",
    "        return (attention_scores @ value), attention_scores\n",
    "\n",
    "    def forward(self, q, k, v, mask):\n",
    "        query = self.w_q(q)\n",
    "        key = self.w_k(k)\n",
    "        value = self.w_v(v)\n",
    "\n",
    "        query = query.view(query.shape[0], query.shape[1], self.h, self.d_k).transpose(1, 2)\n",
    "        key = key.view(key.shape[0], key.shape[1], self.h, self.d_k).transpose(1, 2)\n",
    "        value = value.view(value.shape[0], value.shape[1], self.h, self.d_k).transpose(1, 2)\n",
    "\n",
    "        x, self.attention_scores = MultiHeadSelfAttention.attention(query, key, value, mask, self.dropout)\n",
    "        x = x.transpose(1, 2).contiguous().view(x.shape[0], -1, self.h * self.d_k)\n",
    "        return self.w_o(x)\n",
    "\n",
    "class FeedForward(nn.Module):\n",
    "    def __init__(self, d_model, d_ff):\n",
    "        super(FeedForward, self).__init__()\n",
    "        self.linear1 = nn.Linear(d_model, d_ff)\n",
    "        self.relu = nn.ReLU()\n",
    "        self.linear2 = nn.Linear(d_ff, d_model)\n",
    "\n",
    "    def forward(self, x):\n",
    "        return self.linear2(self.relu(self.linear1(x)))\n",
    "\n",
    "class EncoderLayer(nn.Module):\n",
    "    def __init__(self, d_model, n_heads, d_ff, dropout=0.1):\n",
    "        super(EncoderLayer, self).__init__()\n",
    "        self.attn = MultiHeadSelfAttention(d_model, n_heads, dropout)\n",
    "        self.ff = FeedForward(d_model, d_ff)\n",
    "        self.norm1 = nn.LayerNorm(d_model)\n",
    "        self.norm2 = nn.LayerNorm(d_model)\n",
    "        self.dropout = nn.Dropout(dropout)\n",
    "\n",
    "    def forward(self, x, mask):\n",
    "        attn_output = self.attn(x, x, x, mask)\n",
    "        x = self.norm1(x + self.dropout(attn_output))\n",
    "        ff_output = self.ff(x)\n",
    "        x = self.norm2(x + self.dropout(ff_output))\n",
    "        return x\n",
    "\n",
    "class DecoderLayer(nn.Module):\n",
    "    def __init__(self, d_model, n_heads, d_ff, dropout=0.1):\n",
    "        super(DecoderLayer, self).__init__()\n",
    "        self.self_attn = MultiHeadSelfAttention(d_model, n_heads, dropout)\n",
    "        self.enc_attn = MultiHeadSelfAttention(d_model, n_heads, dropout)\n",
    "        self.ff = FeedForward(d_model, d_ff)\n",
    "        self.norm1 = nn.LayerNorm(d_model)\n",
    "        self.norm2 = nn.LayerNorm(d_model)\n",
    "        self.norm3 = nn.LayerNorm(d_model)\n",
    "        self.dropout = nn.Dropout(dropout)\n",
    "\n",
    "    def forward(self, x, enc_output, src_mask, tgt_mask):\n",
    "        self_attn_output = self.self_attn(x, x, x, tgt_mask)\n",
    "        x = self.norm1(x + self.dropout(self_attn_output))\n",
    "        enc_attn_output = self.enc_attn(x, enc_output, enc_output, src_mask)\n",
    "        x = self.norm2(x + self.dropout(enc_attn_output))\n",
    "        ff_output = self.ff(x)\n",
    "        x = self.norm3(x + self.dropout(ff_output))\n",
    "        return x\n",
    "\n",
    "class Encoder(nn.Module):\n",
    "    def __init__(self, input_dim, d_model, n_heads, d_ff, n_layers, dropout=0.1):\n",
    "        super(Encoder, self).__init__()\n",
    "        self.embedding = nn.Embedding(input_dim, d_model)\n",
    "        self.positional_encoding = PositionalEncoding(d_model)\n",
    "        self.layers = nn.ModuleList([EncoderLayer(d_model, n_heads, d_ff, dropout) for _ in range(n_layers)])\n",
    "\n",
    "    def forward(self, src, src_mask):\n",
    "        x = self.embedding(src)\n",
    "        x = self.positional_encoding(x)\n",
    "        for layer in self.layers:\n",
    "            x = layer(x, src_mask)\n",
    "        return x\n",
    "\n",
    "class Decoder(nn.Module):\n",
    "    def __init__(self, output_dim, d_model, n_heads, d_ff, n_layers, dropout=0.1):\n",
    "        super(Decoder, self).__init__()\n",
    "        self.embedding = nn.Embedding(output_dim, d_model)\n",
    "        self.positional_encoding = PositionalEncoding(d_model)\n",
    "        self.layers = nn.ModuleList([DecoderLayer(d_model, n_heads, d_ff, dropout) for _ in range(n_layers)])\n",
    "        self.fc_out = nn.Linear(d_model, output_dim)\n",
    "\n",
    "    def forward(self, tgt, enc_output, src_mask, tgt_mask):\n",
    "        x = self.embedding(tgt)\n",
    "        x = self.positional_encoding(x)\n",
    "        for layer in self.layers:\n",
    "            x = layer(x, enc_output, src_mask, tgt_mask)\n",
    "        return self.fc_out(x)\n",
    "\n",
    "class Transformer(nn.Module):\n",
    "    def __init__(self, src_vocab_size, tgt_vocab_size, d_model, n_heads, d_ff, n_enc_layers, n_dec_layers, dropout=0.1):\n",
    "        super(Transformer, self).__init__()\n",
    "        self.encoder = Encoder(src_vocab_size, d_model, n_heads, d_ff, n_enc_layers, dropout)\n",
    "        self.decoder = Decoder(tgt_vocab_size, d_model, n_heads, d_ff, n_dec_layers, dropout)\n",
    "\n",
    "    def forward(self, src, tgt, src_mask, tgt_mask):\n",
    "        enc_output = self.encoder(src, src_mask)\n",
    "        output = self.decoder(tgt, enc_output, src_mask, tgt_mask)\n",
    "        return output\n",
    "\n",
    "# Loading configurations\n",
    "def load_config(model_dir):\n",
    "    config_path = os.path.join(model_dir, \"model_config.pkl\")\n",
    "    with open(config_path, 'rb') as f:\n",
    "        config = dill.load(f)\n",
    "    return config\n",
    "\n",
    "# Initializing and load model\n",
    "def load_model(model_dir):\n",
    "    config = load_config(model_dir)\n",
    "   \n",
    "    # Creating model with the initialized architecture\n",
    "    model = Transformer(\n",
    "        config[\"src_vocab_size\"],\n",
    "        config[\"tgt_vocab_size\"],\n",
    "        config[\"d_model\"],\n",
    "        config[\"n_heads\"],\n",
    "        config[\"d_ff\"],\n",
    "        config[\"n_enc_layers\"],\n",
    "        config[\"n_dec_layers\"],\n",
    "        config[\"dropout\"]\n",
    "    )\n",
    "   \n",
    "    # Loading model weights\n",
    "    model_path = os.path.join(model_dir, \"translation_model.pth\")\n",
    "    model.load_state_dict(torch.load(model_path, map_location=torch.device('cpu')))\n",
    "   \n",
    "    return model, config\n",
    "\n",
    "# Loading tokenizers\n",
    "def load_tokenizers(model_dir):\n",
    "    # Load akan tokenizer\n",
    "    akan_path = os.path.join(model_dir, \"akan_tokenizer.pkl\")\n",
    "    with open(akan_path, 'rb') as f:\n",
    "        akan_tokenizer = dill.load(f)\n",
    "    # Load english tokenizer\n",
    "    english_path = os.path.join(model_dir, \"english_tokenizer.pkl\")\n",
    "    with open(english_path, 'rb') as f:\n",
    "        english_tokenizer = dill.load(f)\n",
    "   \n",
    "    return english_tokenizer, akan_tokenizer\n",
    "\n",
    "# Inference utility functions\n",
    "def causal_mask(size, device):\n",
    "    mask = torch.triu(torch.ones((1, size, size), device=device), diagonal=1).int()\n",
    "    return mask == 0\n",
    "\n",
    "def pad_sequence_source(tokens, max_len, cls_token=2, sep_token=3):\n",
    "    padded_tokens = [cls_token] + tokens + [sep_token]\n",
    "   \n",
    "    if len(padded_tokens) < max_len:\n",
    "        padded_tokens.extend([1] * (max_len - len(padded_tokens)))\n",
    "    else:\n",
    "        padded_tokens = padded_tokens[:max_len]\n",
    "   \n",
    "    return padded_tokens\n",
    "\n",
    "def greedy_decode(model, source, source_mask, max_len, device):\n",
    "    sos_idx, eos_idx = 2, 3\n",
    "    encoder_output = model.encoder(source, source_mask)\n",
    "    decoder_input = torch.empty(1, 1, device=device).fill_(sos_idx).long()\n",
    "\n",
    "    while decoder_input.size(1) < max_len:\n",
    "        decoder_mask = causal_mask(decoder_input.size(1), device)\n",
    "        out = model.decoder(decoder_input, encoder_output, source_mask, decoder_mask)\n",
    "        next_word = torch.max(out[:, -1], dim=1)[1]\n",
    "        if next_word.item() == eos_idx:\n",
    "            break\n",
    "        decoder_input = torch.cat([decoder_input, next_word.view(1, 1)], dim=1)\n",
    "\n",
    "    return decoder_input.squeeze(0)[1:]\n",
    "\n",
    "# translation function\n",
    "def translate(text, model, english_tokenizer, akan_tokenizer, max_len=24, device='cpu'):\n",
    "    model.eval()\n",
    "   \n",
    "    # Tokenizing and padding input\n",
    "    tokens = english_tokenizer.encode(text)\n",
    "    padded_tokens = pad_sequence_source(tokens, max_len)\n",
    "    source = torch.tensor(padded_tokens, dtype=torch.long).unsqueeze(0).to(device)\n",
    "    source_mask = (source != 1).unsqueeze(1).unsqueeze(1).int().to(device)\n",
    "   \n",
    "    # Translation Generation\n",
    "    with torch.no_grad():\n",
    "        prediction = greedy_decode(model, source, source_mask, max_len, device)\n",
    "        translated_text = akan_tokenizer.decode(prediction.cpu().numpy())\n",
    "   \n",
    "    return translated_text\n",
    "\n",
    "# Usage\n",
    "model_dir = \"translation_model\"  # Update this to your local path\n",
    "device = torch.device('cpu')  # Force CPU usage\n",
    "\n",
    "# Load everything\n",
    "model, config = load_model(model_dir)\n",
    "english_tokenizer, akan_tokenizer = load_tokenizers(model_dir)\n",
    "model.to(device)\n",
    "\n",
    "# Translate example text\n",
    "text = \"You are a good child\"\n",
    "translation = translate(text, model, english_tokenizer, akan_tokenizer, config[\"max_pad\"], device)\n",
    "print(f\"English: {text}\")\n",
    "print(f\"Akan: {translation}\")\n",
    "\n",
    "\n",
    "    "
   ]
  }
 ],
 "metadata": {
  "kaggle": {
   "accelerator": "gpu",
   "dataSources": [
    {
     "datasetId": 6588375,
     "sourceId": 10640991,
     "sourceType": "datasetVersion"
    },
    {
     "datasetId": 6968293,
     "sourceId": 11166424,
     "sourceType": "datasetVersion"
    },
    {
     "datasetId": 7010089,
     "sourceId": 11224227,
     "sourceType": "datasetVersion"
    },
    {
     "datasetId": 7022605,
     "sourceId": 11240386,
     "sourceType": "datasetVersion"
    },
    {
     "modelId": 226095,
     "modelInstanceId": 204363,
     "sourceId": 239331,
     "sourceType": "modelInstanceVersion"
    }
   ],
   "dockerImageVersionId": 30839,
   "isGpuEnabled": true,
   "isInternetEnabled": false,
   "language": "python",
   "sourceType": "notebook"
  },
  "kernelspec": {
   "display_name": "Python 3",
   "language": "python",
   "name": "python3"
  },
  "language_info": {
   "codemirror_mode": {
    "name": "ipython",
    "version": 3
   },
   "file_extension": ".py",
   "mimetype": "text/x-python",
   "name": "python",
   "nbconvert_exporter": "python",
   "pygments_lexer": "ipython3",
   "version": "3.10.5"
  }
 },
 "nbformat": 4,
 "nbformat_minor": 4
}
